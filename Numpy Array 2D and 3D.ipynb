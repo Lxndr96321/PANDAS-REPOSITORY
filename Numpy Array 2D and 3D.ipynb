{
 "cells": [
  {
   "cell_type": "code",
   "execution_count": 1,
   "id": "c59718dc",
   "metadata": {},
   "outputs": [],
   "source": [
    "import numpy as np"
   ]
  },
  {
   "cell_type": "markdown",
   "id": "e282da58",
   "metadata": {},
   "source": [
    "# How to create a 3d 3dimentional numpy array in python"
   ]
  },
  {
   "cell_type": "code",
   "execution_count": 2,
   "id": "8340f395",
   "metadata": {},
   "outputs": [],
   "source": [
    "n=np.array([[[1,2,3],[4,5,6]],\n",
    "            [[7,8,9],[10,11,12]]])"
   ]
  },
  {
   "cell_type": "code",
   "execution_count": 3,
   "id": "7e86e365",
   "metadata": {},
   "outputs": [
    {
     "name": "stdout",
     "output_type": "stream",
     "text": [
      "Our 3D array...\n",
      " [[[ 1  2  3]\n",
      "  [ 4  5  6]]\n",
      "\n",
      " [[ 7  8  9]\n",
      "  [10 11 12]]]\n",
      "\n",
      "Array Type...\n",
      " <class 'numpy.ndarray'>\n",
      "\n",
      "Shape of Array...\n",
      " (2, 2, 3)\n"
     ]
    }
   ],
   "source": [
    "print (\"Our 3D array...\\n\",n)\n",
    "print(\"\\nArray Type...\\n\",type(n))\n",
    "print(\"\\nShape of Array...\\n\",n.shape)\n"
   ]
  },
  {
   "cell_type": "code",
   "execution_count": 4,
   "id": "45ee61e8",
   "metadata": {},
   "outputs": [],
   "source": [
    "import numpy as np"
   ]
  },
  {
   "cell_type": "code",
   "execution_count": 5,
   "id": "a6a3995a",
   "metadata": {},
   "outputs": [],
   "source": [
    "A=np.array([\n",
    "    [2,-3,1],\n",
    "    [2,0,-1],\n",
    "    [1,4,5]\n",
    "])"
   ]
  },
  {
   "cell_type": "code",
   "execution_count": 6,
   "id": "9fefafeb",
   "metadata": {},
   "outputs": [
    {
     "data": {
      "text/plain": [
       "array([[ 2, -3,  1],\n",
       "       [ 2,  0, -1],\n",
       "       [ 1,  4,  5]])"
      ]
     },
     "execution_count": 6,
     "metadata": {},
     "output_type": "execute_result"
    }
   ],
   "source": [
    "A"
   ]
  },
  {
   "cell_type": "markdown",
   "id": "a0c42d60",
   "metadata": {},
   "source": [
    "# A 3D array is a bunch of two 2D arrays [2(2*3)]\n",
    "# A 3D array is a multi-dimensional array(array of arrays). \n",
    "# A 3D array is a collection of 2D arrays . \n",
    "# It is specified by using three subscripts:Block size, row size and column size. More dimensions in an array means more data can be stored in that array."
   ]
  },
  {
   "cell_type": "markdown",
   "id": "3b1e1d4b",
   "metadata": {},
   "source": [
    "# 3-D arrays are referred to as multi-dimensional arrays. \n",
    "# Multi-dimensional arrays are defined as an “array of arrays” that store data in a tabular form."
   ]
  },
  {
   "cell_type": "markdown",
   "id": "d9e8b05b",
   "metadata": {},
   "source": [
    "# 3D array"
   ]
  },
  {
   "cell_type": "code",
   "execution_count": 7,
   "id": "e2892ba0",
   "metadata": {},
   "outputs": [
    {
     "name": "stdout",
     "output_type": "stream",
     "text": [
      "(2, 2, 3)\n"
     ]
    }
   ],
   "source": [
    "B=np.array([\n",
    "    [[1,2,3],\n",
    "    [4,5,6]],\n",
    "    \n",
    "    [[7,8,9],\n",
    "    [10,11,12]]\n",
    "])\n",
    "\n",
    "print(B.shape)"
   ]
  },
  {
   "cell_type": "code",
   "execution_count": 8,
   "id": "8fa90749",
   "metadata": {},
   "outputs": [
    {
     "name": "stdout",
     "output_type": "stream",
     "text": [
      "3\n"
     ]
    }
   ],
   "source": [
    "print(B.ndim)"
   ]
  },
  {
   "cell_type": "markdown",
   "id": "988fe8f4",
   "metadata": {},
   "source": [
    "# 1 - D array"
   ]
  },
  {
   "cell_type": "code",
   "execution_count": 9,
   "id": "e3039836",
   "metadata": {},
   "outputs": [],
   "source": [
    "import numpy as np"
   ]
  },
  {
   "cell_type": "code",
   "execution_count": 10,
   "id": "afdcf130",
   "metadata": {},
   "outputs": [
    {
     "name": "stdout",
     "output_type": "stream",
     "text": [
      "[1 2 3 4 5]\n",
      "[1 2 3 4 5]\n"
     ]
    }
   ],
   "source": [
    "a=np.array([1,2,3,4,5])\n",
    "b=np.array((1,2,3,4,5))\n",
    "print(a)\n",
    "print(b)"
   ]
  },
  {
   "cell_type": "markdown",
   "id": "b567178a",
   "metadata": {},
   "source": [
    "# 2-D array"
   ]
  },
  {
   "cell_type": "markdown",
   "id": "d817d669",
   "metadata": {},
   "source": [
    "### 2D array created using tuple function"
   ]
  },
  {
   "cell_type": "code",
   "execution_count": 11,
   "id": "c7d32a74",
   "metadata": {},
   "outputs": [
    {
     "data": {
      "text/plain": [
       "array([[1, 2, 3],\n",
       "       [2, 3, 4]])"
      ]
     },
     "execution_count": 11,
     "metadata": {},
     "output_type": "execute_result"
    }
   ],
   "source": [
    "a2=np.array([(1,2,3),(2,3,4)])\n",
    "a2"
   ]
  },
  {
   "cell_type": "markdown",
   "id": "759531fe",
   "metadata": {},
   "source": [
    "### 2D array created using a list function"
   ]
  },
  {
   "cell_type": "code",
   "execution_count": 12,
   "id": "966960b7",
   "metadata": {},
   "outputs": [
    {
     "data": {
      "text/plain": [
       "array([[1, 2, 3],\n",
       "       [2, 3, 4]])"
      ]
     },
     "execution_count": 12,
     "metadata": {},
     "output_type": "execute_result"
    }
   ],
   "source": [
    "b2=np.array([[1,2,3],[2,3,4]])\n",
    "b2"
   ]
  },
  {
   "cell_type": "markdown",
   "id": "2624ba07",
   "metadata": {},
   "source": [
    "### Dimension"
   ]
  },
  {
   "cell_type": "code",
   "execution_count": 13,
   "id": "11e3aeb9",
   "metadata": {},
   "outputs": [
    {
     "data": {
      "text/plain": [
       "2"
      ]
     },
     "execution_count": 13,
     "metadata": {},
     "output_type": "execute_result"
    }
   ],
   "source": [
    "a2.ndim"
   ]
  },
  {
   "cell_type": "code",
   "execution_count": 14,
   "id": "8314dba6",
   "metadata": {},
   "outputs": [
    {
     "data": {
      "text/plain": [
       "1"
      ]
     },
     "execution_count": 14,
     "metadata": {},
     "output_type": "execute_result"
    }
   ],
   "source": [
    "a.ndim"
   ]
  },
  {
   "cell_type": "markdown",
   "id": "fcba8b5c",
   "metadata": {},
   "source": [
    "## How to create a 3D array"
   ]
  },
  {
   "cell_type": "markdown",
   "id": "d2a9b677",
   "metadata": {},
   "source": [
    "#### 2D =arr[3][3]\n",
    "#### 3D =arr[2][3][3]"
   ]
  },
  {
   "cell_type": "code",
   "execution_count": 15,
   "id": "c7c1c14d",
   "metadata": {},
   "outputs": [
    {
     "data": {
      "text/plain": [
       "array([[[1, 2, 3],\n",
       "        [2, 3, 4]],\n",
       "\n",
       "       [[1, 2, 3],\n",
       "        [3, 4, 5]]])"
      ]
     },
     "execution_count": 15,
     "metadata": {},
     "output_type": "execute_result"
    }
   ],
   "source": [
    "a3=np.array([((1,2,3),(2,3,4)),((1,2,3),(3,4,5)) ])\n",
    "a3"
   ]
  },
  {
   "cell_type": "code",
   "execution_count": 16,
   "id": "9b173fd7",
   "metadata": {},
   "outputs": [
    {
     "data": {
      "text/plain": [
       "3"
      ]
     },
     "execution_count": 16,
     "metadata": {},
     "output_type": "execute_result"
    }
   ],
   "source": [
    "a3.ndim"
   ]
  },
  {
   "cell_type": "markdown",
   "id": "4b70019e",
   "metadata": {},
   "source": [
    "# Accessing array elements"
   ]
  },
  {
   "cell_type": "code",
   "execution_count": 17,
   "id": "3534fe2c",
   "metadata": {},
   "outputs": [
    {
     "data": {
      "text/plain": [
       "5"
      ]
     },
     "execution_count": 17,
     "metadata": {},
     "output_type": "execute_result"
    }
   ],
   "source": [
    "a3[1][1][2]"
   ]
  },
  {
   "cell_type": "code",
   "execution_count": 18,
   "id": "0d2e384f",
   "metadata": {},
   "outputs": [
    {
     "data": {
      "text/plain": [
       "array([[1, 2, 3],\n",
       "       [2, 3, 4]])"
      ]
     },
     "execution_count": 18,
     "metadata": {},
     "output_type": "execute_result"
    }
   ],
   "source": [
    "a2"
   ]
  },
  {
   "cell_type": "code",
   "execution_count": 19,
   "id": "89768c49",
   "metadata": {},
   "outputs": [
    {
     "data": {
      "text/plain": [
       "3"
      ]
     },
     "execution_count": 19,
     "metadata": {},
     "output_type": "execute_result"
    }
   ],
   "source": [
    "a2[1][1]"
   ]
  },
  {
   "cell_type": "markdown",
   "id": "39ff2ae1",
   "metadata": {},
   "source": [
    "# Changing Array Elements"
   ]
  },
  {
   "cell_type": "code",
   "execution_count": 20,
   "id": "7f183fdf",
   "metadata": {},
   "outputs": [],
   "source": [
    "a2[1][1]=23"
   ]
  },
  {
   "cell_type": "code",
   "execution_count": 21,
   "id": "5be6640e",
   "metadata": {},
   "outputs": [
    {
     "data": {
      "text/plain": [
       "array([[ 1,  2,  3],\n",
       "       [ 2, 23,  4]])"
      ]
     },
     "execution_count": 21,
     "metadata": {},
     "output_type": "execute_result"
    }
   ],
   "source": [
    "a2"
   ]
  },
  {
   "cell_type": "code",
   "execution_count": 22,
   "id": "f88bfaee",
   "metadata": {},
   "outputs": [
    {
     "data": {
      "text/plain": [
       "array([[[1, 2, 3],\n",
       "        [2, 3, 4]],\n",
       "\n",
       "       [[1, 2, 3],\n",
       "        [3, 4, 5]]])"
      ]
     },
     "execution_count": 22,
     "metadata": {},
     "output_type": "execute_result"
    }
   ],
   "source": [
    "a3"
   ]
  },
  {
   "cell_type": "code",
   "execution_count": 23,
   "id": "6f6da42a",
   "metadata": {},
   "outputs": [],
   "source": [
    "a3[1][0][1]=25"
   ]
  },
  {
   "cell_type": "code",
   "execution_count": 24,
   "id": "24568811",
   "metadata": {},
   "outputs": [
    {
     "data": {
      "text/plain": [
       "array([[[ 1,  2,  3],\n",
       "        [ 2,  3,  4]],\n",
       "\n",
       "       [[ 1, 25,  3],\n",
       "        [ 3,  4,  5]]])"
      ]
     },
     "execution_count": 24,
     "metadata": {},
     "output_type": "execute_result"
    }
   ],
   "source": [
    "a3"
   ]
  },
  {
   "cell_type": "markdown",
   "id": "65570f55",
   "metadata": {},
   "source": [
    "# Initialize different types of array"
   ]
  },
  {
   "cell_type": "code",
   "execution_count": 25,
   "id": "97863e6b",
   "metadata": {},
   "outputs": [],
   "source": [
    "a=np.zeros((2,3),dtype='int32')"
   ]
  },
  {
   "cell_type": "code",
   "execution_count": 26,
   "id": "0c0030d2",
   "metadata": {},
   "outputs": [
    {
     "data": {
      "text/plain": [
       "array([[0, 0, 0],\n",
       "       [0, 0, 0]])"
      ]
     },
     "execution_count": 26,
     "metadata": {},
     "output_type": "execute_result"
    }
   ],
   "source": [
    "a"
   ]
  },
  {
   "cell_type": "code",
   "execution_count": 27,
   "id": "217c79bb",
   "metadata": {},
   "outputs": [
    {
     "data": {
      "text/plain": [
       "array([[1, 1, 1],\n",
       "       [1, 1, 1],\n",
       "       [1, 1, 1]])"
      ]
     },
     "execution_count": 27,
     "metadata": {},
     "output_type": "execute_result"
    }
   ],
   "source": [
    "np.ones((3,3),dtype='int32')"
   ]
  },
  {
   "cell_type": "code",
   "execution_count": 28,
   "id": "5f936754",
   "metadata": {},
   "outputs": [
    {
     "data": {
      "text/plain": [
       "array([[99, 99, 99],\n",
       "       [99, 99, 99],\n",
       "       [99, 99, 99]])"
      ]
     },
     "execution_count": 28,
     "metadata": {},
     "output_type": "execute_result"
    }
   ],
   "source": [
    "np.full((3,3),99)"
   ]
  },
  {
   "cell_type": "code",
   "execution_count": 29,
   "id": "7217b347",
   "metadata": {},
   "outputs": [
    {
     "data": {
      "text/plain": [
       "array([[1., 0., 0., 0., 0.],\n",
       "       [0., 1., 0., 0., 0.],\n",
       "       [0., 0., 1., 0., 0.],\n",
       "       [0., 0., 0., 1., 0.],\n",
       "       [0., 0., 0., 0., 1.]])"
      ]
     },
     "execution_count": 29,
     "metadata": {},
     "output_type": "execute_result"
    }
   ],
   "source": [
    "# Create an identity matrix\n",
    "np.identity(5)"
   ]
  },
  {
   "cell_type": "code",
   "execution_count": 30,
   "id": "ec056051",
   "metadata": {},
   "outputs": [],
   "source": [
    "a=np.arange(1,31)"
   ]
  },
  {
   "cell_type": "code",
   "execution_count": 31,
   "id": "e9eda9d1",
   "metadata": {},
   "outputs": [
    {
     "data": {
      "text/plain": [
       "array([ 1,  2,  3,  4,  5,  6,  7,  8,  9, 10, 11, 12, 13, 14, 15, 16, 17,\n",
       "       18, 19, 20, 21, 22, 23, 24, 25, 26, 27, 28, 29, 30])"
      ]
     },
     "execution_count": 31,
     "metadata": {},
     "output_type": "execute_result"
    }
   ],
   "source": [
    "a"
   ]
  },
  {
   "cell_type": "code",
   "execution_count": 32,
   "id": "17b422ac",
   "metadata": {},
   "outputs": [
    {
     "data": {
      "text/plain": [
       "array([[ 1,  2,  3,  4,  5,  6],\n",
       "       [ 7,  8,  9, 10, 11, 12],\n",
       "       [13, 14, 15, 16, 17, 18],\n",
       "       [19, 20, 21, 22, 23, 24],\n",
       "       [25, 26, 27, 28, 29, 30]])"
      ]
     },
     "execution_count": 32,
     "metadata": {},
     "output_type": "execute_result"
    }
   ],
   "source": [
    "a.reshape(5,6)"
   ]
  },
  {
   "cell_type": "code",
   "execution_count": 36,
   "id": "47ff9450",
   "metadata": {},
   "outputs": [
    {
     "data": {
      "text/plain": [
       "array([[1, 1, 1, 1, 1],\n",
       "       [1, 1, 1, 1, 1],\n",
       "       [1, 1, 1, 1, 1],\n",
       "       [1, 1, 1, 1, 1]])"
      ]
     },
     "execution_count": 36,
     "metadata": {},
     "output_type": "execute_result"
    }
   ],
   "source": [
    "np.ones((4,5),dtype='int32')"
   ]
  },
  {
   "cell_type": "markdown",
   "id": "388dc466",
   "metadata": {},
   "source": [
    "# numpy array takes lesser memory\n",
    "# numpy array is good for mathematical computation.\n",
    "# hetrogenous list can be made in numpy array"
   ]
  },
  {
   "cell_type": "code",
   "execution_count": 1,
   "id": "af343f72",
   "metadata": {},
   "outputs": [],
   "source": [
    "import numpy as np"
   ]
  },
  {
   "cell_type": "code",
   "execution_count": 6,
   "id": "cd420d4f",
   "metadata": {},
   "outputs": [],
   "source": [
    "x=np.array([1,'Hi',True])"
   ]
  },
  {
   "cell_type": "code",
   "execution_count": 7,
   "id": "0e83e813",
   "metadata": {},
   "outputs": [
    {
     "data": {
      "text/plain": [
       "array(['1', 'Hi', 'True'], dtype='<U11')"
      ]
     },
     "execution_count": 7,
     "metadata": {},
     "output_type": "execute_result"
    }
   ],
   "source": [
    "x"
   ]
  },
  {
   "cell_type": "code",
   "execution_count": 4,
   "id": "c397bba4",
   "metadata": {},
   "outputs": [
    {
     "data": {
      "text/plain": [
       "'1'"
      ]
     },
     "execution_count": 4,
     "metadata": {},
     "output_type": "execute_result"
    }
   ],
   "source": [
    "x[0]"
   ]
  },
  {
   "cell_type": "code",
   "execution_count": 5,
   "id": "e718c276",
   "metadata": {},
   "outputs": [
    {
     "data": {
      "text/plain": [
       "'True'"
      ]
     },
     "execution_count": 5,
     "metadata": {},
     "output_type": "execute_result"
    }
   ],
   "source": [
    "x[2]"
   ]
  },
  {
   "cell_type": "code",
   "execution_count": 8,
   "id": "22211bd0",
   "metadata": {},
   "outputs": [
    {
     "data": {
      "text/plain": [
       "False"
      ]
     },
     "execution_count": 8,
     "metadata": {},
     "output_type": "execute_result"
    }
   ],
   "source": [
    "x[2] is True"
   ]
  },
  {
   "cell_type": "code",
   "execution_count": 11,
   "id": "5ede77de",
   "metadata": {},
   "outputs": [],
   "source": [
    "x[2]=True"
   ]
  },
  {
   "cell_type": "code",
   "execution_count": 12,
   "id": "5436c835",
   "metadata": {},
   "outputs": [
    {
     "data": {
      "text/plain": [
       "array(['1', 'Hi', 'True'], dtype='<U11')"
      ]
     },
     "execution_count": 12,
     "metadata": {},
     "output_type": "execute_result"
    }
   ],
   "source": [
    "x"
   ]
  },
  {
   "cell_type": "code",
   "execution_count": null,
   "id": "d53febbc",
   "metadata": {},
   "outputs": [],
   "source": [
    "x="
   ]
  }
 ],
 "metadata": {
  "kernelspec": {
   "display_name": "Python 3 (ipykernel)",
   "language": "python",
   "name": "python3"
  },
  "language_info": {
   "codemirror_mode": {
    "name": "ipython",
    "version": 3
   },
   "file_extension": ".py",
   "mimetype": "text/x-python",
   "name": "python",
   "nbconvert_exporter": "python",
   "pygments_lexer": "ipython3",
   "version": "3.10.9"
  }
 },
 "nbformat": 4,
 "nbformat_minor": 5
}
