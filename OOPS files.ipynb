{
 "cells": [
  {
   "cell_type": "markdown",
   "id": "f2ed9fa4",
   "metadata": {},
   "source": [
    "## OOPS\n",
    "\n",
    "    * Python is an object oreanterd programming\n",
    "    * in python every data type or an value are an object of its respective class\n",
    "    * It has methods and attributes\n",
    "    * It create an user defined class usinng keyword called as class\n",
    "    * we create an object file by\n",
    "    object initilalization\n",
    "    "
   ]
  },
  {
   "cell_type": "code",
   "execution_count": 1,
   "id": "b2e0cf3c",
   "metadata": {},
   "outputs": [
    {
     "name": "stdout",
     "output_type": "stream",
     "text": [
      "<class 'type'>\n"
     ]
    }
   ],
   "source": [
    "print(type(range))"
   ]
  },
  {
   "cell_type": "code",
   "execution_count": null,
   "id": "f6477907",
   "metadata": {},
   "outputs": [],
   "source": []
  },
  {
   "cell_type": "code",
   "execution_count": 3,
   "id": "5c739226",
   "metadata": {},
   "outputs": [
    {
     "name": "stdout",
     "output_type": "stream",
     "text": [
      "<class 'int'>\n"
     ]
    }
   ],
   "source": [
    "print(type(5))"
   ]
  },
  {
   "cell_type": "code",
   "execution_count": 4,
   "id": "615f3714",
   "metadata": {},
   "outputs": [],
   "source": [
    "# creating a dosa class \n",
    "\n",
    "class Dosa():\n",
    "    pass"
   ]
  },
  {
   "cell_type": "code",
   "execution_count": 5,
   "id": "e0a9773f",
   "metadata": {},
   "outputs": [
    {
     "name": "stdout",
     "output_type": "stream",
     "text": [
      "<class '__main__.Dosa'>\n"
     ]
    }
   ],
   "source": [
    "# creaing an object\n",
    "\n",
    "karamDosa = Dosa()\n",
    "\n",
    "print(type (karamDosa))"
   ]
  },
  {
   "cell_type": "code",
   "execution_count": 6,
   "id": "6a0e98f5",
   "metadata": {},
   "outputs": [],
   "source": [
    "karamDosa.batter = 'ricebatter'\n",
    "karamDosa.topping = 'karampowder'\n",
    "karamDosa.chutney = 'peanut'"
   ]
  },
  {
   "cell_type": "code",
   "execution_count": 7,
   "id": "2cc9d77d",
   "metadata": {},
   "outputs": [],
   "source": [
    "# 2nd way\n",
    "class Dosa():\n",
    "    \n",
    "    def ingridents(self,batter,topping,chutney):\n",
    "        self.batter = batter\n",
    "        self.topping = topping\n",
    "        self.chutney = chutney"
   ]
  },
  {
   "cell_type": "code",
   "execution_count": 9,
   "id": "30edd523",
   "metadata": {},
   "outputs": [],
   "source": [
    "chesseDosa = Dosa ()\n",
    "chesseDosa.ingridents('ricebatter','chesse', 'coconut')\n"
   ]
  },
  {
   "cell_type": "code",
   "execution_count": 10,
   "id": "3de07e13",
   "metadata": {},
   "outputs": [
    {
     "data": {
      "text/plain": [
       "'ricebatter'"
      ]
     },
     "execution_count": 10,
     "metadata": {},
     "output_type": "execute_result"
    }
   ],
   "source": [
    "chesseDosa.batter"
   ]
  },
  {
   "cell_type": "code",
   "execution_count": 11,
   "id": "600b8e13",
   "metadata": {},
   "outputs": [],
   "source": [
    "class Employee():\n",
    "    def details(self,fname,lname,dob,bloodgroup):\n",
    "        self.name = fname+' '+lname\n",
    "        self.dob = dob\n",
    "        self.email = fname+lname+'@innomaics.in'"
   ]
  },
  {
   "cell_type": "code",
   "execution_count": 12,
   "id": "40dfa204",
   "metadata": {},
   "outputs": [],
   "source": [
    "ruthvi = Employee()\n",
    "\n",
    "ruthvi.details('ruthvi','Gurram','17-06-1997','B +ve')"
   ]
  },
  {
   "cell_type": "code",
   "execution_count": 13,
   "id": "870ad0b9",
   "metadata": {},
   "outputs": [
    {
     "data": {
      "text/plain": [
       "'ruthviGurram@innomatics.in'"
      ]
     },
     "execution_count": 13,
     "metadata": {},
     "output_type": "execute_result"
    }
   ],
   "source": [
    "ruthvi.email"
   ]
  },
  {
   "cell_type": "code",
   "execution_count": 14,
   "id": "67e22df5",
   "metadata": {},
   "outputs": [
    {
     "data": {
      "text/plain": [
       "'ruthvi Gurram'"
      ]
     },
     "execution_count": 14,
     "metadata": {},
     "output_type": "execute_result"
    }
   ],
   "source": [
    "ruthvi.name"
   ]
  },
  {
   "cell_type": "markdown",
   "id": "5c593a7d",
   "metadata": {},
   "source": [
    "*Init is a constructer which use to pass the values to the attributes\n"
   ]
  },
  {
   "cell_type": "code",
   "execution_count": 28,
   "id": "5b604728",
   "metadata": {},
   "outputs": [],
   "source": [
    "class Employee():\n",
    "    def __init__(self,fname,lname,dob,bloodgroup):\n",
    "        self.name = fname+' '+lname\n",
    "        self.dob = dob\n",
    "        self.email = fname+lname+'@innomaics.in'\n",
    "        self.bloodgroup = bloodgroup"
   ]
  },
  {
   "cell_type": "code",
   "execution_count": 29,
   "id": "003e5965",
   "metadata": {},
   "outputs": [],
   "source": [
    "ruthvi = Employee('ruthvi','Gurram','17-06-1997','B +ve')\n",
    "\n"
   ]
  },
  {
   "cell_type": "code",
   "execution_count": 30,
   "id": "e91cf0bf",
   "metadata": {},
   "outputs": [
    {
     "data": {
      "text/plain": [
       "'ruthviGurram@innomaics.in'"
      ]
     },
     "execution_count": 30,
     "metadata": {},
     "output_type": "execute_result"
    }
   ],
   "source": [
    "ruthvi.email"
   ]
  },
  {
   "cell_type": "code",
   "execution_count": 31,
   "id": "f10778e7",
   "metadata": {},
   "outputs": [
    {
     "data": {
      "text/plain": [
       "'B +ve'"
      ]
     },
     "execution_count": 31,
     "metadata": {},
     "output_type": "execute_result"
    }
   ],
   "source": [
    "ruthvi.bloodgroup"
   ]
  },
  {
   "cell_type": "code",
   "execution_count": 15,
   "id": "29f21d38",
   "metadata": {},
   "outputs": [],
   "source": [
    "class Interns:\n",
    "    '''This class is for creating interns and recording there details'''\n",
    "    def __init__(self, fname,lname,dob,bloodgroup):\n",
    "        self.name = fname+' '+lname\n",
    "        self.dob = dob\n",
    "        self.email = fname+lname+'@innomaics.in'\n",
    "        self.bloodgroup = bloodgroup\n",
    "        print(f'{self.name} is now an intern and can be reached on {self.email}') \n",
    "        \n",
    "    def details(self):\n",
    "        print(f'{self.name} is now an intern and can be reached on {self.email}')"
   ]
  },
  {
   "cell_type": "code",
   "execution_count": 11,
   "id": "91689da6",
   "metadata": {},
   "outputs": [],
   "source": [
    "person1= Interns('ruthvi','Gurram','17-06-1997','B +ve')"
   ]
  },
  {
   "cell_type": "code",
   "execution_count": 12,
   "id": "f2b14fde",
   "metadata": {
    "scrolled": true
   },
   "outputs": [
    {
     "name": "stdout",
     "output_type": "stream",
     "text": [
      "ruthvi Gurram is now an intern and can be reached on ruthviGurram@innomaics.in\n"
     ]
    }
   ],
   "source": [
    "person1.details()"
   ]
  },
  {
   "cell_type": "code",
   "execution_count": 13,
   "id": "297521f1",
   "metadata": {},
   "outputs": [
    {
     "data": {
      "text/plain": [
       "'This class is for creating interns and recording there details'"
      ]
     },
     "execution_count": 13,
     "metadata": {},
     "output_type": "execute_result"
    }
   ],
   "source": [
    "Interns.__doc__"
   ]
  },
  {
   "cell_type": "code",
   "execution_count": 8,
   "id": "e6313617",
   "metadata": {},
   "outputs": [
    {
     "name": "stdout",
     "output_type": "stream",
     "text": [
      "Help on class Interns in module __main__:\n",
      "\n",
      "class Interns(builtins.object)\n",
      " |  Interns(fname, lname, dob, bloodgroup)\n",
      " |  \n",
      " |  This class is for creating interns and recording there details\n",
      " |  \n",
      " |  Methods defined here:\n",
      " |  \n",
      " |  __init__(self, fname, lname, dob, bloodgroup)\n",
      " |      Initialize self.  See help(type(self)) for accurate signature.\n",
      " |  \n",
      " |  details(self)\n",
      " |  \n",
      " |  ----------------------------------------------------------------------\n",
      " |  Data descriptors defined here:\n",
      " |  \n",
      " |  __dict__\n",
      " |      dictionary for instance variables (if defined)\n",
      " |  \n",
      " |  __weakref__\n",
      " |      list of weak references to the object (if defined)\n",
      "\n"
     ]
    }
   ],
   "source": [
    "help(Interns)"
   ]
  },
  {
   "cell_type": "markdown",
   "id": "4d9b06d0",
   "metadata": {},
   "source": [
    "## Instance attributes:\n",
    "\n",
    "  * Insw=tance attriobutes are object level attributes\n",
    "  * these attributes are may are may not have same values accross all objects"
   ]
  },
  {
   "cell_type": "code",
   "execution_count": 16,
   "id": "ad9855b2",
   "metadata": {},
   "outputs": [
    {
     "name": "stdout",
     "output_type": "stream",
     "text": [
      "ruthvi Gurram is now an intern and can be reached on ruthviGurram@innomaics.in\n",
      "pardhu kadali is now an intern and can be reached on pardhukadali@innomaics.in\n"
     ]
    }
   ],
   "source": [
    "# Instance attributes\n",
    "intern2,intern3 =Interns('ruthvi','Gurram','17-06-1997','B +ve'),Interns('pardhu','kadali','17-07-1996','B +ve')"
   ]
  },
  {
   "cell_type": "code",
   "execution_count": 17,
   "id": "bb647178",
   "metadata": {},
   "outputs": [
    {
     "data": {
      "text/plain": [
       "('ruthvi Gurram', 'pardhu kadali')"
      ]
     },
     "execution_count": 17,
     "metadata": {},
     "output_type": "execute_result"
    }
   ],
   "source": [
    "intern2.name,intern3.name"
   ]
  },
  {
   "cell_type": "code",
   "execution_count": 19,
   "id": "fa1f6e32",
   "metadata": {},
   "outputs": [],
   "source": [
    "#static attribute\n",
    "class potentialEnergy:\n",
    "    g= 9.8 # static attribute\n",
    "    \n",
    "    \n",
    "    def __init__(self,mass,height):\n",
    "        self.m = mass\n",
    "        self.h = height\n",
    "        self.pe()\n",
    "        \n",
    "    def pe(self):\n",
    "        print(self.m * self.g *self.h)"
   ]
  },
  {
   "cell_type": "code",
   "execution_count": 21,
   "id": "5a78a6d4",
   "metadata": {},
   "outputs": [
    {
     "name": "stdout",
     "output_type": "stream",
     "text": [
      "259.89599999999996\n",
      "360.64\n"
     ]
    }
   ],
   "source": [
    "a, b= potentialEnergy(7.8,3.4), potentialEnergy(8,4.6)"
   ]
  },
  {
   "cell_type": "code",
   "execution_count": 22,
   "id": "80499811",
   "metadata": {},
   "outputs": [
    {
     "data": {
      "text/plain": [
       "(9.8, 9.8)"
      ]
     },
     "execution_count": 22,
     "metadata": {},
     "output_type": "execute_result"
    }
   ],
   "source": [
    "a.g , b.g"
   ]
  },
  {
   "cell_type": "markdown",
   "id": "6af47a70",
   "metadata": {},
   "source": [
    "## Instance method\n",
    "\n",
    "   * These parameters takes self as the first perameter\n",
    "   * we often use this methods to modify the instance method\n"
   ]
  },
  {
   "cell_type": "markdown",
   "id": "26ab2bac",
   "metadata": {},
   "source": []
  },
  {
   "cell_type": "markdown",
   "id": "40d96fda",
   "metadata": {},
   "source": [
    "## class methods\n",
    "\n",
    "   * these methods accept class as first perameter\n",
    "       * we define a class method using a decorator@classmethod"
   ]
  },
  {
   "cell_type": "markdown",
   "id": "f014f4ae",
   "metadata": {},
   "source": [
    "## Static Method\n",
    "   * These methods accept no class or cls as first parameter.\n",
    "   * we define a static method using a"
   ]
  },
  {
   "cell_type": "code",
   "execution_count": 23,
   "id": "baa11978",
   "metadata": {},
   "outputs": [],
   "source": [
    "class restaurent:\n",
    "    \n",
    "    discount = 10\n",
    "    \n",
    "    def __init__ (self,bill):\n",
    "        self.bill = bill\n",
    "    def printBill(self):\n",
    "        print(self.bill)\n",
    "        \n",
    "        @classmethaod\n",
    "        def disc(cls):\n",
    "            print(f'dicount availed is {cls.discount}%')\n",
    "        \n",
    "        @staticmethod\n",
    "        def greet():\n",
    "            print('welcome....')\n",
    "    \n",
    "    "
   ]
  },
  {
   "cell_type": "markdown",
   "id": "74c8c2d3",
   "metadata": {},
   "source": [
    "### 12/03/2023"
   ]
  },
  {
   "cell_type": "markdown",
   "id": "1a87860c",
   "metadata": {},
   "source": [
    "why are we writting a classw method\n",
    "Is there is a change in static attribute within the the calss "
   ]
  },
  {
   "cell_type": "markdown",
   "id": "26a4ae0c",
   "metadata": {},
   "source": [
    "### Public,private And Protected\n",
    "   Public\n",
    "\n",
    "   * public attributes and method are those methods which can access from any part of the program\n",
    "   * all the data components in a class are public by default\n",
    "   \n",
    "   private\n",
    "   \n",
    "   * the data components whicha are diclared as private can only be acess with in the class itself\n",
    "   * in order to declare an attribute or a method as private, __ is added before its name\n",
    "   \n",
    "   Protected\n",
    "   \n",
    "   * the data components which are diclared as protected can be accessable from the class it is derived\n",
    "   * In order to to declare an attribute or a method as protected, _is added before its name\n",
    "   "
   ]
  },
  {
   "cell_type": "code",
   "execution_count": 30,
   "id": "02117b8c",
   "metadata": {},
   "outputs": [],
   "source": [
    "# private\n",
    "class student:\n",
    "    def __init__(self,marks):\n",
    "        self.__cutoff =35\n",
    "        self.__marks =marks\n",
    "    def result(self):\n",
    "        if self.__marks >= self.__cutoff:\n",
    "            return 'pass'\n",
    "        else:\n",
    "            return 'Fail'\n",
    "        "
   ]
  },
  {
   "cell_type": "code",
   "execution_count": 31,
   "id": "3d321343",
   "metadata": {},
   "outputs": [],
   "source": [
    "abc = student(30)"
   ]
  },
  {
   "cell_type": "code",
   "execution_count": 32,
   "id": "60e25cd5",
   "metadata": {},
   "outputs": [
    {
     "data": {
      "text/plain": [
       "'Fail'"
      ]
     },
     "execution_count": 32,
     "metadata": {},
     "output_type": "execute_result"
    }
   ],
   "source": [
    "abc.result()"
   ]
  },
  {
   "cell_type": "code",
   "execution_count": 33,
   "id": "a2b506c0",
   "metadata": {},
   "outputs": [],
   "source": [
    " abc._student__cutoff =20"
   ]
  },
  {
   "cell_type": "code",
   "execution_count": 34,
   "id": "63cde699",
   "metadata": {},
   "outputs": [
    {
     "data": {
      "text/plain": [
       "'pass'"
      ]
     },
     "execution_count": 34,
     "metadata": {},
     "output_type": "execute_result"
    }
   ],
   "source": [
    "abc.result()"
   ]
  },
  {
   "cell_type": "code",
   "execution_count": 35,
   "id": "77c4fa8f",
   "metadata": {},
   "outputs": [],
   "source": [
    "class student:\n",
    "    def __init__(self,marks):\n",
    "        self.__cutoff =35\n",
    "        self.__marks =marks\n",
    "    def result(self):\n",
    "        if self.__marks >= self.__cutoff:\n",
    "            return 'pass'\n",
    "        else:\n",
    "            return 'Fail'\n",
    "    def changeCutoff(cls,x):\n",
    "        cls.__cutoff = x"
   ]
  },
  {
   "cell_type": "code",
   "execution_count": 36,
   "id": "86f0ad7b",
   "metadata": {},
   "outputs": [
    {
     "data": {
      "text/plain": [
       "'Fail'"
      ]
     },
     "execution_count": 36,
     "metadata": {},
     "output_type": "execute_result"
    }
   ],
   "source": [
    "abc = student(30)\n",
    "abc.result()"
   ]
  },
  {
   "cell_type": "code",
   "execution_count": 38,
   "id": "2d6f8a07",
   "metadata": {},
   "outputs": [
    {
     "data": {
      "text/plain": [
       "'pass'"
      ]
     },
     "execution_count": 38,
     "metadata": {},
     "output_type": "execute_result"
    }
   ],
   "source": [
    "abc.changeCutoff(20)\n",
    "abc.result()"
   ]
  },
  {
   "cell_type": "code",
   "execution_count": 40,
   "id": "febcbbd6",
   "metadata": {},
   "outputs": [
    {
     "data": {
      "text/plain": [
       "'Fail'"
      ]
     },
     "execution_count": 40,
     "metadata": {},
     "output_type": "execute_result"
    }
   ],
   "source": [
    "mnp = student(25)\n",
    "mnp.result()"
   ]
  },
  {
   "cell_type": "markdown",
   "id": "e0896c01",
   "metadata": {},
   "source": [
    "Derived class is changed class\n",
    "\n"
   ]
  },
  {
   "cell_type": "code",
   "execution_count": 41,
   "id": "b043daeb",
   "metadata": {},
   "outputs": [],
   "source": [
    "# inheritance\n",
    "## single inheritance"
   ]
  },
  {
   "cell_type": "code",
   "execution_count": 61,
   "id": "04573d87",
   "metadata": {},
   "outputs": [],
   "source": [
    "class Parent:\n",
    "    amount = 1000\n",
    "    \n",
    "    def ParentMethod(self):\n",
    "        print('this is parent method')"
   ]
  },
  {
   "cell_type": "code",
   "execution_count": 62,
   "id": "ba90f916",
   "metadata": {},
   "outputs": [],
   "source": [
    "class Child (Parent):\n",
    "    def ChildMethod(self):\n",
    "        print('this is Child method')"
   ]
  },
  {
   "cell_type": "code",
   "execution_count": 63,
   "id": "b8a1590f",
   "metadata": {},
   "outputs": [
    {
     "data": {
      "text/plain": [
       "1000"
      ]
     },
     "execution_count": 63,
     "metadata": {},
     "output_type": "execute_result"
    }
   ],
   "source": [
    "abc =Child()\n",
    "abc.amount"
   ]
  },
  {
   "cell_type": "code",
   "execution_count": 64,
   "id": "72a97b80",
   "metadata": {},
   "outputs": [
    {
     "name": "stdout",
     "output_type": "stream",
     "text": [
      "this is parent method\n"
     ]
    }
   ],
   "source": [
    "abc.ParentMethod()"
   ]
  },
  {
   "cell_type": "code",
   "execution_count": 66,
   "id": "cefcae99",
   "metadata": {},
   "outputs": [],
   "source": [
    "class Interns:\n",
    "    '''This class is for creating interns and recording there details'''\n",
    "    def __init__(self, fname,lname,dob,bloodgroup):\n",
    "        self.name = fname+' '+lname\n",
    "        self.dob = dob\n",
    "        self.email = fname+lname+'@innomaics.in'\n",
    "        self.bloodgroup = bloodgroup\n",
    "        print(f'{self.name} is now an intern and can be reached on {self.email}') "
   ]
  },
  {
   "cell_type": "code",
   "execution_count": 73,
   "id": "cfe3113e",
   "metadata": {},
   "outputs": [],
   "source": [
    "class Trainee(Interns):\n",
    "    def __init__(self,fname,lname,dob,bloodgroup,department):\n",
    "        super().__init__(fname,lname,dob,bloodgroup)\n",
    "        self.department = department"
   ]
  },
  {
   "cell_type": "code",
   "execution_count": 74,
   "id": "715af552",
   "metadata": {},
   "outputs": [
    {
     "name": "stdout",
     "output_type": "stream",
     "text": [
      "ruthvi Gurram is now an intern and can be reached on ruthviGurram@innomaics.in\n"
     ]
    }
   ],
   "source": [
    "abc = Trainee('ruthvi','Gurram','17-06-1997','B +ve','mechanical')"
   ]
  },
  {
   "cell_type": "code",
   "execution_count": 75,
   "id": "70dd5186",
   "metadata": {},
   "outputs": [
    {
     "data": {
      "text/plain": [
       "'mechanical'"
      ]
     },
     "execution_count": 75,
     "metadata": {},
     "output_type": "execute_result"
    }
   ],
   "source": [
    "abc.department"
   ]
  },
  {
   "cell_type": "code",
   "execution_count": 77,
   "id": "44ebf30b",
   "metadata": {},
   "outputs": [
    {
     "data": {
      "text/plain": [
       "'ruthviGurram@innomaics.in'"
      ]
     },
     "execution_count": 77,
     "metadata": {},
     "output_type": "execute_result"
    }
   ],
   "source": [
    "abc.email"
   ]
  },
  {
   "cell_type": "code",
   "execution_count": 79,
   "id": "438df015",
   "metadata": {},
   "outputs": [
    {
     "name": "stdout",
     "output_type": "stream",
     "text": [
      "Alex Aron is now an intern and can be reached on AlexAron@innomaics.in\n"
     ]
    }
   ],
   "source": [
    "mno =Interns('Alex','Aron','8-02-90','AB+')"
   ]
  },
  {
   "cell_type": "code",
   "execution_count": 109,
   "id": "ee593ad9",
   "metadata": {},
   "outputs": [],
   "source": [
    "#Multiple inheritance\\\n",
    "class P1:\n",
    "    def __init__(self,fname,lname):\n",
    "        self.name = fname+' '+lname\n",
    "        print('P1')\n",
    "        \n",
    "class P2:\n",
    "    def __init__(self,fname,lname):\n",
    "        self.name = lname+' '+fname\n",
    "        print('P2')"
   ]
  },
  {
   "cell_type": "code",
   "execution_count": 110,
   "id": "c5b2f5d2",
   "metadata": {},
   "outputs": [],
   "source": [
    "class Child(P1,P2):\n",
    "    def __init__(self,fname,lname):\n",
    "        super(). __init__(fname, lname)\n",
    "        \n",
    "    def cMEthod(self):\n",
    "        print('C')"
   ]
  },
  {
   "cell_type": "code",
   "execution_count": 111,
   "id": "919bd33e",
   "metadata": {},
   "outputs": [
    {
     "name": "stdout",
     "output_type": "stream",
     "text": [
      "P1\n"
     ]
    }
   ],
   "source": [
    "abc = Child('Alex','Aron')\n"
   ]
  },
  {
   "cell_type": "code",
   "execution_count": null,
   "id": "3fdce169",
   "metadata": {},
   "outputs": [],
   "source": []
  },
  {
   "cell_type": "code",
   "execution_count": null,
   "id": "e1611b51",
   "metadata": {},
   "outputs": [],
   "source": []
  },
  {
   "cell_type": "code",
   "execution_count": 104,
   "id": "7a10f2cf",
   "metadata": {},
   "outputs": [],
   "source": [
    "class Child2(P1,P2):\n",
    "    def __init__(self,fname,lname):\n",
    "        super(). __init__(fname, lname)\n",
    "        \n",
    "    def cMEthod(self):\n",
    "        print('C')"
   ]
  },
  {
   "cell_type": "code",
   "execution_count": null,
   "id": "35f71878",
   "metadata": {},
   "outputs": [],
   "source": []
  },
  {
   "cell_type": "code",
   "execution_count": null,
   "id": "b27ee318",
   "metadata": {},
   "outputs": [],
   "source": []
  },
  {
   "cell_type": "code",
   "execution_count": 107,
   "id": "bb211586",
   "metadata": {},
   "outputs": [],
   "source": [
    "class T:\n",
    "    pass"
   ]
  },
  {
   "cell_type": "code",
   "execution_count": 108,
   "id": "fc97caf6",
   "metadata": {},
   "outputs": [
    {
     "data": {
      "text/plain": [
       "['__class__',\n",
       " '__delattr__',\n",
       " '__dict__',\n",
       " '__dir__',\n",
       " '__doc__',\n",
       " '__eq__',\n",
       " '__format__',\n",
       " '__ge__',\n",
       " '__getattribute__',\n",
       " '__gt__',\n",
       " '__hash__',\n",
       " '__init__',\n",
       " '__init_subclass__',\n",
       " '__le__',\n",
       " '__lt__',\n",
       " '__module__',\n",
       " '__ne__',\n",
       " '__new__',\n",
       " '__reduce__',\n",
       " '__reduce_ex__',\n",
       " '__repr__',\n",
       " '__setattr__',\n",
       " '__sizeof__',\n",
       " '__str__',\n",
       " '__subclasshook__',\n",
       " '__weakref__']"
      ]
     },
     "execution_count": 108,
     "metadata": {},
     "output_type": "execute_result"
    }
   ],
   "source": [
    "dir(T)"
   ]
  },
  {
   "cell_type": "code",
   "execution_count": null,
   "id": "ce36083d",
   "metadata": {},
   "outputs": [],
   "source": []
  }
 ],
 "metadata": {
  "kernelspec": {
   "display_name": "Python 3 (ipykernel)",
   "language": "python",
   "name": "python3"
  },
  "language_info": {
   "codemirror_mode": {
    "name": "ipython",
    "version": 3
   },
   "file_extension": ".py",
   "mimetype": "text/x-python",
   "name": "python",
   "nbconvert_exporter": "python",
   "pygments_lexer": "ipython3",
   "version": "3.10.10"
  }
 },
 "nbformat": 4,
 "nbformat_minor": 5
}
