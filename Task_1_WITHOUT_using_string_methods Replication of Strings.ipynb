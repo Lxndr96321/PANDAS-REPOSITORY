{
 "cells": [
  {
   "cell_type": "markdown",
   "id": "ce93bd4b",
   "metadata": {},
   "source": [
    "## Python Program of finding the Larger String without Using Built-in Functions"
   ]
  },
  {
   "cell_type": "code",
   "execution_count": 16,
   "id": "07157404",
   "metadata": {},
   "outputs": [
    {
     "name": "stdout",
     "output_type": "stream",
     "text": [
      "Larger string is:\n",
      "Please Share and Subscribe to my channel \n"
     ]
    }
   ],
   "source": [
    "string1=\"Please Share and Subscribe to my channel \"\n",
    "string2=\"It offers several topics\"\n",
    "count1=0\n",
    "count2=0\n",
    "\n",
    "for i in string1:\n",
    "    count1=count1+1\n",
    "for j in string2:\n",
    "    count2=count2+1\n",
    "\n",
    "if(count1<count2):\n",
    "    print(\"Larger string is:\")\n",
    "    print(string2)\n",
    "\n",
    "elif(count1==count2):\n",
    "    print(\"Both strings are equal.\")\n",
    "\n",
    "else:\n",
    "    print(\"Larger string is:\")\n",
    "    print(string1)\n"
   ]
  },
  {
   "cell_type": "markdown",
   "id": "4686a7f8",
   "metadata": {},
   "source": [
    "### Example 2"
   ]
  },
  {
   "cell_type": "code",
   "execution_count": 3,
   "id": "592b7c6c",
   "metadata": {},
   "outputs": [
    {
     "name": "stdout",
     "output_type": "stream",
     "text": [
      "Larger string is:\n",
      "The whole world is fond of action movies like Avengers and Avatar \n"
     ]
    }
   ],
   "source": [
    "def larger_string(str1, str2):\n",
    "    i = 0\n",
    "    j = 0\n",
    "    try:\n",
    "        while True:\n",
    "            i += 1\n",
    "            j += 1\n",
    "            str1[i]\n",
    "            str2[j]\n",
    "    except IndexError:\n",
    "        if i > j:\n",
    "            return str2\n",
    "        else:\n",
    "            return str1\n",
    "\n",
    "string1 = \"The whole world is fond of action movies like Avengers and Avatar \"\n",
    "string2 = \"It offers several topics\"\n",
    "print(\"Larger string is:\")\n",
    "print(larger_string(string1, string2))\n"
   ]
  },
  {
   "cell_type": "code",
   "execution_count": 20,
   "id": "c0001aa7",
   "metadata": {},
   "outputs": [
    {
     "name": "stdout",
     "output_type": "stream",
     "text": [
      "Enter number: 15\n",
      "123456789101112131415"
     ]
    }
   ],
   "source": [
    "num = int(input(\"Enter number: \"))\n",
    "for i in range(1, num+1):\n",
    "    print(i, end='')"
   ]
  },
  {
   "cell_type": "code",
   "execution_count": 25,
   "id": "f3573803",
   "metadata": {},
   "outputs": [
    {
     "name": "stdout",
     "output_type": "stream",
     "text": [
      "15\n",
      "123456789101112131415"
     ]
    }
   ],
   "source": [
    "\n",
    "if __name__ == '__main__':\n",
    "    n = int(input())\n",
    "    for i in range(1,n+1):\n",
    "        print (i, end = \"\")\n"
   ]
  },
  {
   "cell_type": "code",
   "execution_count": 2,
   "id": "637b7288",
   "metadata": {},
   "outputs": [
    {
     "name": "stdout",
     "output_type": "stream",
     "text": [
      "9\n",
      "123456789\n"
     ]
    }
   ],
   "source": [
    "n = int(input())\n",
    "ls = []\n",
    "pr = (\"\")\n",
    "for i in range(1,n+1):\n",
    "    ls.append(i)\n",
    "for i in range(len(ls)):\n",
    "    pr += \"{}\".format(ls[i])\n",
    "print(pr)"
   ]
  },
  {
   "cell_type": "markdown",
   "id": "ef715fb8",
   "metadata": {},
   "source": [
    "## Python Program to Calculate the Length of a String Without using Library Functions"
   ]
  },
  {
   "cell_type": "code",
   "execution_count": 14,
   "id": "504b9279",
   "metadata": {},
   "outputs": [
    {
     "name": "stdout",
     "output_type": "stream",
     "text": [
      "Length of the string is:\n",
      "5\n"
     ]
    }
   ],
   "source": [
    "\n",
    "\n",
    "string=(\"Hello\")\n",
    "count=0\n",
    "for i in string:\n",
    "      count=count+1\n",
    "print(\"Length of the string is:\")\n",
    "print(count)"
   ]
  },
  {
   "cell_type": "markdown",
   "id": "634a50c7",
   "metadata": {},
   "source": [
    "## Showing the partition of a sting integer without using string method"
   ]
  },
  {
   "cell_type": "code",
   "execution_count": 19,
   "id": "b0c8b456",
   "metadata": {},
   "outputs": [
    {
     "name": "stdout",
     "output_type": "stream",
     "text": [
      "12\n",
      "1\n",
      "2\n"
     ]
    }
   ],
   "source": [
    "a=str(input())\n",
    "list1=[]\n",
    "list1[0:]=a\n",
    "count=0 \n",
    "\n",
    "for i in range(0,len(list1)):\n",
    "\n",
    "    count+=1 \n",
    "    \n",
    "    print(count)"
   ]
  },
  {
   "cell_type": "code",
   "execution_count": 21,
   "id": "075fc61b",
   "metadata": {},
   "outputs": [
    {
     "name": "stdout",
     "output_type": "stream",
     "text": [
      "Enter the number15\n",
      "2\n"
     ]
    }
   ],
   "source": [
    "char = input(\"Enter the number\")\n",
    "k = len(str(char))\n",
    "print(k)"
   ]
  },
  {
   "cell_type": "code",
   "execution_count": 27,
   "id": "5c0ed5f8",
   "metadata": {},
   "outputs": [
    {
     "name": "stdout",
     "output_type": "stream",
     "text": [
      "42,582\n",
      "1\n",
      "2\n",
      "3\n",
      "4\n",
      "5\n",
      "6\n"
     ]
    }
   ],
   "source": [
    "s=input()\n",
    "count=0\n",
    "\n",
    "for i in s:\n",
    "    count=count+1\n",
    "    print(count)"
   ]
  },
  {
   "cell_type": "markdown",
   "id": "7962bb54",
   "metadata": {},
   "source": [
    "## Finding larger string value without using the normal string method function"
   ]
  },
  {
   "cell_type": "code",
   "execution_count": 62,
   "id": "cd674df5",
   "metadata": {},
   "outputs": [
    {
     "name": "stdout",
     "output_type": "stream",
     "text": [
      "Enter first string:14\n",
      "Enter second string:27\n",
      "Larger string is:\n",
      "27\n"
     ]
    }
   ],
   "source": [
    "string1=int(input(\"Enter first string:\"))\n",
    "string2=int(input(\"Enter second string:\"))\n",
    "count1=0\n",
    "count2=0\n",
    "for i in range(string1):\n",
    "      count1=count1+1\n",
    "for j in range(string2):\n",
    "      count2=count2+1\n",
    "if(count1<count2):\n",
    "      print(\"Larger string is:\")\n",
    "      print(string2)\n",
    "elif(count1==count2):\n",
    "      print(\"Both strings are equal.\")\n",
    "else:\n",
    "      print(\"Larger string is:\")\n",
    "      print(string1)"
   ]
  },
  {
   "cell_type": "markdown",
   "id": "f018c418",
   "metadata": {},
   "source": [
    "### Use of isdecimal string method()\n"
   ]
  },
  {
   "cell_type": "code",
   "execution_count": 1,
   "id": "8177986e",
   "metadata": {},
   "outputs": [
    {
     "name": "stdout",
     "output_type": "stream",
     "text": [
      "True\n",
      "False\n",
      "False\n"
     ]
    }
   ],
   "source": [
    "s = \"28212\"\n",
    "print(s.isdecimal())\n",
    "\n",
    "# contains alphabets\n",
    "s = \"32ladk3\"\n",
    "print(s.isdecimal())\n",
    "\n",
    "# contains alphabets and spaces\n",
    "s = \"Mo3 nicaG el l22er\"\n",
    "print(s.isdecimal())"
   ]
  },
  {
   "cell_type": "markdown",
   "id": "839c4b01",
   "metadata": {},
   "source": [
    "# Example 2: String Containing digits and Numeric Characters"
   ]
  },
  {
   "cell_type": "code",
   "execution_count": 2,
   "id": "79c89bb9",
   "metadata": {},
   "outputs": [
    {
     "name": "stdout",
     "output_type": "stream",
     "text": [
      "True\n",
      "False\n",
      "False\n"
     ]
    }
   ],
   "source": [
    "s = \"28212\"\n",
    "print(s.isdecimal())\n",
    "\n",
    "# contains alphabets\n",
    "s = \"32ladk3\"\n",
    "print(s.isdecimal())\n",
    "\n",
    "# contains alphabets and spaces\n",
    "s = \"Mo3 nicaG el l22er\"\n",
    "print(s.isdecimal())"
   ]
  },
  {
   "cell_type": "markdown",
   "id": "2fd22334",
   "metadata": {},
   "source": [
    "# Example 2: String Containing digits and Numeric Characters"
   ]
  },
  {
   "cell_type": "code",
   "execution_count": 3,
   "id": "d087c095",
   "metadata": {},
   "outputs": [
    {
     "name": "stdout",
     "output_type": "stream",
     "text": [
      "True\n",
      "False\n",
      "False\n"
     ]
    }
   ],
   "source": [
    "s = '23455'\n",
    "print(s.isdecimal())\n",
    "\n",
    "#s = '²3455'\n",
    "s = '\\u00B23455'\n",
    "print(s.isdecimal())\n",
    "\n",
    "# s = '½'\n",
    "s = '\\u00BD'\n",
    "print(s.isdecimal())\n"
   ]
  },
  {
   "cell_type": "code",
   "execution_count": 4,
   "id": "1029786a",
   "metadata": {},
   "outputs": [
    {
     "name": "stdout",
     "output_type": "stream",
     "text": [
      "True\n",
      "False\n",
      "False\n"
     ]
    }
   ],
   "source": [
    "s = \"12345\"\n",
    "print(s.isdecimal())\n",
    "\n",
    "# contains alphabets\n",
    "s = \"12geeks34\"\n",
    "print(s.isdecimal())\n",
    "\n",
    "# contains numbers and spaces\n",
    "s = \"12 34\"\n",
    "print(s.isdecimal())\n"
   ]
  },
  {
   "cell_type": "code",
   "execution_count": 6,
   "id": "f6dc7fd0",
   "metadata": {},
   "outputs": [
    {
     "name": "stdout",
     "output_type": "stream",
     "text": [
      "expr isdecimal()? False\n"
     ]
    }
   ],
   "source": [
    "expr = \"4²\"\n",
    "\n",
    "print(\"expr isdecimal()?\", expr.isdecimal())\n"
   ]
  },
  {
   "cell_type": "code",
   "execution_count": 7,
   "id": "42e6a6ec",
   "metadata": {},
   "outputs": [
    {
     "name": "stdout",
     "output_type": "stream",
     "text": [
      "True\n",
      "False\n",
      "False\n",
      "False\n"
     ]
    }
   ],
   "source": [
    "numstr = '12345'\n",
    "print(numstr.isdecimal()) # returns True\n",
    "\n",
    "numstr = '10.50'\n",
    "print(numstr.isdecimal()) # returns False\n",
    "\n",
    "alnumstr = '123A'\n",
    "print(alnumstr.isdecimal()) # returns False\n",
    "\n",
    "mystr = 'Python'\n",
    "print(mystr.isdecimal()) # returns False"
   ]
  },
  {
   "cell_type": "code",
   "execution_count": 8,
   "id": "6b67d8e9",
   "metadata": {},
   "outputs": [
    {
     "name": "stdout",
     "output_type": "stream",
     "text": [
      "False\n",
      "False\n"
     ]
    }
   ],
   "source": [
    "amount = '$100'\n",
    "print(amount.isdecimal())\n",
    "\n",
    "code = '#007'\n",
    "print(mystr.isdecimal())"
   ]
  },
  {
   "cell_type": "code",
   "execution_count": 9,
   "id": "459e1d7f",
   "metadata": {},
   "outputs": [
    {
     "name": "stdout",
     "output_type": "stream",
     "text": [
      "True\n",
      "False\n"
     ]
    }
   ],
   "source": [
    "# Python isdecimal() method example  \n",
    "# Variable declaration  \n",
    "str = \"123\"     # True  \n",
    "str3 = \"@#$\"   # False  \n",
    "# Calling function  \n",
    "str2 = str.isdecimal()  \n",
    "str4 = str3.isdecimal()  \n",
    "# Displaying result  \n",
    "print(str2)  \n",
    "print(str4)  "
   ]
  },
  {
   "cell_type": "markdown",
   "id": "422104c9",
   "metadata": {},
   "source": [
    "### Below are a few examples where isdecimal() method returns false\n"
   ]
  },
  {
   "cell_type": "code",
   "execution_count": 10,
   "id": "b221cf10",
   "metadata": {},
   "outputs": [
    {
     "name": "stdout",
     "output_type": "stream",
     "text": [
      "False\n",
      "False\n",
      "False\n"
     ]
    }
   ],
   "source": [
    "\n",
    "# floating point number\n",
    "S = '123.456'\n",
    "x = S.isdecimal()\n",
    "print(x)\n",
    "# Prints False\n",
    "\n",
    "# number with thousands separator\n",
    "S = '1,234,567'\n",
    "x = S.isdecimal()\n",
    "print(x)\n",
    "# Prints False\n",
    "\n",
    "# empty string\n",
    "S = ''\n",
    "x = S.isdecimal()\n",
    "print(x)\n",
    "# Prints False"
   ]
  },
  {
   "cell_type": "code",
   "execution_count": 11,
   "id": "41a9fb60",
   "metadata": {},
   "outputs": [
    {
     "name": "stdout",
     "output_type": "stream",
     "text": [
      "True\n"
     ]
    }
   ],
   "source": [
    "# Check if all characters in the string are decimal characters\n",
    "S = '123'\n",
    "x = S.isdecimal()\n",
    "print(x)\n",
    "# Prints True"
   ]
  }
 ],
 "metadata": {
  "kernelspec": {
   "display_name": "Python 3 (ipykernel)",
   "language": "python",
   "name": "python3"
  },
  "language_info": {
   "codemirror_mode": {
    "name": "ipython",
    "version": 3
   },
   "file_extension": ".py",
   "mimetype": "text/x-python",
   "name": "python",
   "nbconvert_exporter": "python",
   "pygments_lexer": "ipython3",
   "version": "3.10.9"
  }
 },
 "nbformat": 4,
 "nbformat_minor": 5
}
