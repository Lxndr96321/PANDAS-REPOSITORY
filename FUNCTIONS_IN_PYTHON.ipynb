{
 "cells": [
  {
   "cell_type": "markdown",
   "id": "a3165058",
   "metadata": {},
   "source": [
    "# Functions in PYthon"
   ]
  },
  {
   "cell_type": "markdown",
   "id": "213ab3ff",
   "metadata": {},
   "source": [
    "## def is used to define a function\n",
    "\n",
    "## To call a function u have to type the name of  the function in the end\n"
   ]
  },
  {
   "cell_type": "code",
   "execution_count": 2,
   "id": "5044adee",
   "metadata": {},
   "outputs": [
    {
     "name": "stdout",
     "output_type": "stream",
     "text": [
      "Hello\n",
      "Good Morning\n"
     ]
    }
   ],
   "source": [
    "\n",
    "def greet():\n",
    "    print(\"Hello\")\n",
    "    print(\"Good Morning\")\n",
    "    \n",
    "greet()"
   ]
  },
  {
   "cell_type": "code",
   "execution_count": 3,
   "id": "49bab67f",
   "metadata": {},
   "outputs": [
    {
     "name": "stdout",
     "output_type": "stream",
     "text": [
      "Hello\n",
      "Good Morning\n"
     ]
    }
   ],
   "source": [
    "greet()"
   ]
  },
  {
   "cell_type": "markdown",
   "id": "d40efa28",
   "metadata": {},
   "source": [
    "### Addition of two numbers using functions in python"
   ]
  },
  {
   "cell_type": "code",
   "execution_count": 4,
   "id": "72b8a2de",
   "metadata": {},
   "outputs": [
    {
     "name": "stdout",
     "output_type": "stream",
     "text": [
      "9\n"
     ]
    }
   ],
   "source": [
    "def add(x,y):\n",
    "    c=x+y\n",
    "    print(c)\n",
    "\n",
    "add(5,4)"
   ]
  },
  {
   "cell_type": "markdown",
   "id": "f7bbadfb",
   "metadata": {},
   "source": [
    "# you can create multiple functions and call them multiple times. You don't need to type the whole bloc of code again.\n"
   ]
  },
  {
   "cell_type": "code",
   "execution_count": 6,
   "id": "07d5190b",
   "metadata": {},
   "outputs": [
    {
     "name": "stdout",
     "output_type": "stream",
     "text": [
      "Hello\n",
      "Good Morning\n"
     ]
    }
   ],
   "source": [
    "greet()"
   ]
  },
  {
   "cell_type": "code",
   "execution_count": 7,
   "id": "0f150253",
   "metadata": {},
   "outputs": [
    {
     "name": "stdout",
     "output_type": "stream",
     "text": [
      "72\n"
     ]
    }
   ],
   "source": [
    "def mul(a,b):\n",
    "    z=a*b\n",
    "    print(z)\n",
    "\n",
    "result=mul(12,6)"
   ]
  },
  {
   "cell_type": "markdown",
   "id": "f6fafa82",
   "metadata": {},
   "source": [
    "### You can also store the result and assign a return value to get the output."
   ]
  },
  {
   "cell_type": "code",
   "execution_count": 10,
   "id": "15c19a5f",
   "metadata": {},
   "outputs": [],
   "source": [
    "\n",
    "\n",
    "def mul(a,b):\n",
    "    z=a*b\n",
    "    return z\n",
    "result=mul(12,6)"
   ]
  },
  {
   "cell_type": "code",
   "execution_count": 12,
   "id": "29bb21fa",
   "metadata": {},
   "outputs": [
    {
     "name": "stdout",
     "output_type": "stream",
     "text": [
      "72\n"
     ]
    }
   ],
   "source": [
    "print(result)"
   ]
  },
  {
   "cell_type": "markdown",
   "id": "b8b085f8",
   "metadata": {},
   "source": [
    "### A function can accept two values at a time."
   ]
  },
  {
   "cell_type": "code",
   "execution_count": 23,
   "id": "67b1f7f4",
   "metadata": {},
   "outputs": [
    {
     "name": "stdout",
     "output_type": "stream",
     "text": [
      "9 1\n"
     ]
    }
   ],
   "source": [
    "def add_sub(x,y):\n",
    "    \n",
    "    c=x+y\n",
    "    d=x-y\n",
    "    return c,d\n",
    "\n",
    "result1, result2=add_sub(5,4)\n",
    "print(result1,result2)"
   ]
  },
  {
   "cell_type": "code",
   "execution_count": 1,
   "id": "4d24e6d3",
   "metadata": {},
   "outputs": [
    {
     "name": "stdout",
     "output_type": "stream",
     "text": [
      "Hi Alexander Aharon\n",
      "Welcome aboard\n",
      "Hi John Smith\n",
      "Welcome aboard\n"
     ]
    }
   ],
   "source": [
    "def greet(first_name, last_name):\n",
    "    print(f\"Hi {first_name} {last_name}\")\n",
    "    print(\"Welcome aboard\")\n",
    "    \n",
    "greet(\"Alexander\", \"Aharon\")\n",
    "greet(\"John\", \"Smith\")"
   ]
  },
  {
   "cell_type": "code",
   "execution_count": 37,
   "id": "51595b6e",
   "metadata": {},
   "outputs": [],
   "source": [
    "def fizz_buzz(input):\n",
    "    \n",
    "    if  (input % 3==0) and (input % 5==0):\n",
    "        return \"FizzBuzz\"\n",
    "    if input %3==0:\n",
    "        return \"Fizz\"\n",
    "    if input %5==0:\n",
    "        return \"Buzz\"\n",
    "    \n",
    "    return input"
   ]
  },
  {
   "cell_type": "code",
   "execution_count": 41,
   "id": "4a6236cf",
   "metadata": {},
   "outputs": [
    {
     "name": "stdout",
     "output_type": "stream",
     "text": [
      "Fizz\n"
     ]
    }
   ],
   "source": [
    "print(fizz_buzz(3))"
   ]
  },
  {
   "cell_type": "code",
   "execution_count": 42,
   "id": "c4835c35",
   "metadata": {},
   "outputs": [
    {
     "name": "stdout",
     "output_type": "stream",
     "text": [
      "Buzz\n"
     ]
    }
   ],
   "source": [
    "print(fizz_buzz(5))"
   ]
  },
  {
   "cell_type": "code",
   "execution_count": 43,
   "id": "d764dd8d",
   "metadata": {},
   "outputs": [
    {
     "name": "stdout",
     "output_type": "stream",
     "text": [
      "FizzBuzz\n"
     ]
    }
   ],
   "source": [
    "print(fizz_buzz(15))"
   ]
  },
  {
   "cell_type": "markdown",
   "id": "e2dd1343",
   "metadata": {},
   "source": [
    "# Defining a function\n",
    "def foo():\n",
    "    print(5)\n",
    "    \n",
    "foo()"
   ]
  },
  {
   "cell_type": "markdown",
   "id": "3ff21cf3",
   "metadata": {},
   "source": [
    "# def--- defining a function\n",
    "# foo--- calling a function name"
   ]
  },
  {
   "cell_type": "code",
   "execution_count": 2,
   "id": "b5f0caa2",
   "metadata": {},
   "outputs": [
    {
     "name": "stdout",
     "output_type": "stream",
     "text": [
      "A is not greater\n"
     ]
    }
   ],
   "source": [
    "def foo(a,b,c):\n",
    "    if a > b and a >c:\n",
    "        print('a is greater')\n",
    "        \n",
    "    else:\n",
    "        print('A is not greater')\n",
    "        \n",
    "foo(10,11,12)"
   ]
  },
  {
   "cell_type": "code",
   "execution_count": 18,
   "id": "b32b4f0f",
   "metadata": {},
   "outputs": [
    {
     "name": "stdout",
     "output_type": "stream",
     "text": [
      "D.K Bose\n"
     ]
    }
   ],
   "source": [
    "# order if parameter matters\n",
    "\n",
    "def foo  (fname, Iname):\n",
    "\n",
    "    print(Iname, fname)\n",
    "    \n",
    "foo( 'Bose', 'D.K')\n",
    "\n",
    "\n",
    "\n"
   ]
  },
  {
   "cell_type": "code",
   "execution_count": 19,
   "id": "6a2486bc",
   "metadata": {},
   "outputs": [
    {
     "name": "stdout",
     "output_type": "stream",
     "text": [
      "12 10 11\n"
     ]
    }
   ],
   "source": [
    "def foo(a,b,c):\n",
    "    print(c,a,b)\n",
    "foo(10,11,12)"
   ]
  },
  {
   "cell_type": "code",
   "execution_count": null,
   "id": "14489e21",
   "metadata": {},
   "outputs": [],
   "source": [
    "# Write a progr"
   ]
  },
  {
   "cell_type": "code",
   "execution_count": 27,
   "id": "97dede1c",
   "metadata": {},
   "outputs": [
    {
     "name": "stdout",
     "output_type": "stream",
     "text": [
      "Given number is false\n"
     ]
    }
   ],
   "source": [
    "def foo(a):\n",
    "    if a%2==0:\n",
    "        print('Given number is even')\n",
    "    else:\n",
    "        print('Given number is false')\n",
    "    \n",
    "foo(3)"
   ]
  },
  {
   "cell_type": "code",
   "execution_count": 28,
   "id": "4dec5eac",
   "metadata": {},
   "outputs": [],
   "source": [
    "def foo1(a):\n",
    "    if a%2==0:\n",
    "        print('Even')\n",
    "    else:\n",
    "        print('odd')"
   ]
  },
  {
   "cell_type": "code",
   "execution_count": 30,
   "id": "913bca9a",
   "metadata": {},
   "outputs": [
    {
     "name": "stdout",
     "output_type": "stream",
     "text": [
      "odd\n"
     ]
    }
   ],
   "source": [
    "foo1(5)"
   ]
  },
  {
   "cell_type": "code",
   "execution_count": 3,
   "id": "336362cb",
   "metadata": {},
   "outputs": [
    {
     "name": "stdout",
     "output_type": "stream",
     "text": [
      "25\n"
     ]
    }
   ],
   "source": [
    "def num(a,b,c):\n",
    "    if a>=b and a>=c:\n",
    "        print(a)\n",
    "    elif b>=a and b>=c:\n",
    "        print(b)\n",
    "    elif c<=b and c>=a:\n",
    "        print(c)\n",
    "num(10,25,16)"
   ]
  },
  {
   "cell_type": "code",
   "execution_count": 4,
   "id": "fdd9acac",
   "metadata": {},
   "outputs": [
    {
     "name": "stdout",
     "output_type": "stream",
     "text": [
      "11\n"
     ]
    }
   ],
   "source": [
    "num(11,11,10)"
   ]
  },
  {
   "cell_type": "code",
   "execution_count": 37,
   "id": "d430ae95",
   "metadata": {},
   "outputs": [],
   "source": [
    "def foo(a,b,c):\n",
    "    if a > b and a >c:\n",
    "        print(a)\n",
    "    elif b > c and b > a:\n",
    "        print(b)\n",
    "    else:\n",
    "        print(c)"
   ]
  },
  {
   "cell_type": "code",
   "execution_count": 39,
   "id": "60abdfe3",
   "metadata": {},
   "outputs": [
    {
     "name": "stdout",
     "output_type": "stream",
     "text": [
      "45\n"
     ]
    }
   ],
   "source": [
    "foo(10,23,45)"
   ]
  },
  {
   "cell_type": "markdown",
   "id": "2a9de0c0",
   "metadata": {},
   "source": [
    "# Positional vs keyword Arguments"
   ]
  },
  {
   "cell_type": "code",
   "execution_count": 1,
   "id": "5f649260",
   "metadata": {},
   "outputs": [
    {
     "name": "stdout",
     "output_type": "stream",
     "text": [
      "12\n"
     ]
    }
   ],
   "source": [
    "a=input\n",
    "def foo(a=input()):\n",
    "    print(a)"
   ]
  },
  {
   "cell_type": "code",
   "execution_count": 2,
   "id": "3009403d",
   "metadata": {},
   "outputs": [],
   "source": [
    "def foo(a,b,c):\n",
    "    print(a,b,c)"
   ]
  },
  {
   "cell_type": "code",
   "execution_count": 3,
   "id": "7bdc5405",
   "metadata": {},
   "outputs": [
    {
     "name": "stdout",
     "output_type": "stream",
     "text": [
      "10 11 12\n"
     ]
    }
   ],
   "source": [
    "foo(10,11,12)"
   ]
  },
  {
   "cell_type": "code",
   "execution_count": 4,
   "id": "01b71f44",
   "metadata": {},
   "outputs": [
    {
     "name": "stdout",
     "output_type": "stream",
     "text": [
      "10 5 15\n"
     ]
    }
   ],
   "source": [
    "foo(b=5,a=10,c=15)"
   ]
  },
  {
   "cell_type": "code",
   "execution_count": 5,
   "id": "824c9a68",
   "metadata": {},
   "outputs": [
    {
     "name": "stdout",
     "output_type": "stream",
     "text": [
      "10 5 23\n"
     ]
    }
   ],
   "source": [
    "foo(b=5,a=10,c=23)"
   ]
  },
  {
   "cell_type": "code",
   "execution_count": 6,
   "id": "af3831a5",
   "metadata": {},
   "outputs": [
    {
     "name": "stdout",
     "output_type": "stream",
     "text": [
      "23 5 53\n"
     ]
    }
   ],
   "source": [
    "foo(a=23,b=5,c=53)"
   ]
  },
  {
   "cell_type": "markdown",
   "id": "af362311",
   "metadata": {},
   "source": [
    "### You cannot pass two values to the same parameter"
   ]
  },
  {
   "cell_type": "code",
   "execution_count": 7,
   "id": "b28d591c",
   "metadata": {},
   "outputs": [
    {
     "ename": "TypeError",
     "evalue": "foo() got multiple values for argument 'c'",
     "output_type": "error",
     "traceback": [
      "\u001b[1;31m---------------------------------------------------------------------------\u001b[0m",
      "\u001b[1;31mTypeError\u001b[0m                                 Traceback (most recent call last)",
      "Cell \u001b[1;32mIn[7], line 3\u001b[0m\n\u001b[0;32m      1\u001b[0m \u001b[38;5;28;01mdef\u001b[39;00m \u001b[38;5;21mfoo\u001b[39m(a,b,c,d,e):\n\u001b[0;32m      2\u001b[0m     \u001b[38;5;28mprint\u001b[39m(a,b,c,d,e)\n\u001b[1;32m----> 3\u001b[0m \u001b[43mfoo\u001b[49m\u001b[43m(\u001b[49m\u001b[38;5;241;43m1\u001b[39;49m\u001b[43m,\u001b[49m\u001b[38;5;241;43m2\u001b[39;49m\u001b[43m,\u001b[49m\u001b[38;5;241;43m3\u001b[39;49m\u001b[43m,\u001b[49m\u001b[43mc\u001b[49m\u001b[38;5;241;43m=\u001b[39;49m\u001b[38;5;241;43m5\u001b[39;49m\u001b[43m,\u001b[49m\u001b[43m \u001b[49m\u001b[43md\u001b[49m\u001b[38;5;241;43m=\u001b[39;49m\u001b[38;5;241;43m7\u001b[39;49m\u001b[43m,\u001b[49m\u001b[43m \u001b[49m\u001b[43me\u001b[49m\u001b[38;5;241;43m=\u001b[39;49m\u001b[38;5;241;43m8\u001b[39;49m\u001b[43m)\u001b[49m\n",
      "\u001b[1;31mTypeError\u001b[0m: foo() got multiple values for argument 'c'"
     ]
    }
   ],
   "source": [
    "def foo(a,b,c,d,e):\n",
    "    print(a,b,c,d,e)\n",
    "foo(1,2,3,c=5, d=7, e=8)\n",
    "\n"
   ]
  },
  {
   "cell_type": "code",
   "execution_count": null,
   "id": "3ce142e4",
   "metadata": {},
   "outputs": [],
   "source": [
    "foo(a=5, e=7, d=8, b=10)"
   ]
  },
  {
   "cell_type": "code",
   "execution_count": null,
   "id": "315994a9",
   "metadata": {},
   "outputs": [],
   "source": [
    "foo(c=5, a=5, e=7, d=8, b=10)"
   ]
  },
  {
   "cell_type": "code",
   "execution_count": 8,
   "id": "dd286270",
   "metadata": {},
   "outputs": [
    {
     "name": "stdout",
     "output_type": "stream",
     "text": [
      "1 2 8 9 5\n"
     ]
    }
   ],
   "source": [
    "foo(1,2,e=5,c=8,d=9)"
   ]
  },
  {
   "cell_type": "markdown",
   "id": "493faa7f",
   "metadata": {},
   "source": [
    "# Default argument"
   ]
  },
  {
   "cell_type": "code",
   "execution_count": 9,
   "id": "89c0edf2",
   "metadata": {},
   "outputs": [
    {
     "name": "stdout",
     "output_type": "stream",
     "text": [
      "50\n"
     ]
    }
   ],
   "source": [
    "def foo(a,b=10):\n",
    "    print(a*b)\n",
    "    \n",
    "foo(5)"
   ]
  },
  {
   "cell_type": "markdown",
   "id": "7a38920d",
   "metadata": {},
   "source": [
    "## If value of b is not given automatically it would be considered the value of a "
   ]
  },
  {
   "cell_type": "code",
   "execution_count": 10,
   "id": "c348dbb9",
   "metadata": {},
   "outputs": [
    {
     "name": "stdout",
     "output_type": "stream",
     "text": [
      "10\n"
     ]
    }
   ],
   "source": [
    "foo(5,2)"
   ]
  },
  {
   "cell_type": "markdown",
   "id": "d324bf40",
   "metadata": {},
   "source": [
    "## All default arguments should come at the end"
   ]
  },
  {
   "cell_type": "code",
   "execution_count": 11,
   "id": "7bdc28f2",
   "metadata": {},
   "outputs": [
    {
     "name": "stdout",
     "output_type": "stream",
     "text": [
      "10\n"
     ]
    }
   ],
   "source": [
    "foo(1)"
   ]
  },
  {
   "cell_type": "markdown",
   "id": "6acd928e",
   "metadata": {},
   "source": [
    "### Write a function which takes the first and last name and greet someone!!!"
   ]
  },
  {
   "cell_type": "code",
   "execution_count": 12,
   "id": "92a2a8f1",
   "metadata": {},
   "outputs": [
    {
     "name": "stdout",
     "output_type": "stream",
     "text": [
      "Hi Alexander Aharon\n",
      "Welcome aboard\n"
     ]
    }
   ],
   "source": [
    "def greet(first_name, last_name):\n",
    "    print(f\"Hi {first_name} {last_name}\")\n",
    "    print(\"Welcome aboard\")\n",
    "    \n",
    "greet(\"Alexander\", \"Aharon\")\n"
   ]
  },
  {
   "cell_type": "code",
   "execution_count": 13,
   "id": "f510dc6d",
   "metadata": {},
   "outputs": [
    {
     "name": "stdout",
     "output_type": "stream",
     "text": [
      "Good Morning Alex!!!\n"
     ]
    }
   ],
   "source": [
    "def greet(a, b='Alex!!!'):\n",
    "    print(a+' '+b)\n",
    "greet('Good Morning')"
   ]
  },
  {
   "cell_type": "code",
   "execution_count": 14,
   "id": "c6e8a60c",
   "metadata": {},
   "outputs": [
    {
     "name": "stdout",
     "output_type": "stream",
     "text": [
      "happy morning!!! AaronAlex\n"
     ]
    }
   ],
   "source": [
    "def foo(fname, lname, greet ='happy morning!!!'):\n",
    "    print(greet, lname+''+fname)\n",
    "foo('Alex','Aaron')"
   ]
  },
  {
   "cell_type": "code",
   "execution_count": 15,
   "id": "f4c7906d",
   "metadata": {},
   "outputs": [],
   "source": [
    "def foo(a,b,c,f, d=5):\n",
    "    print(a,b)\n",
    "    "
   ]
  },
  {
   "cell_type": "code",
   "execution_count": 16,
   "id": "50f7b6fe",
   "metadata": {},
   "outputs": [
    {
     "ename": "TypeError",
     "evalue": "foo() got multiple values for argument 'b'",
     "output_type": "error",
     "traceback": [
      "\u001b[1;31m---------------------------------------------------------------------------\u001b[0m",
      "\u001b[1;31mTypeError\u001b[0m                                 Traceback (most recent call last)",
      "Cell \u001b[1;32mIn[16], line 1\u001b[0m\n\u001b[1;32m----> 1\u001b[0m \u001b[43mfoo\u001b[49m\u001b[43m(\u001b[49m\u001b[38;5;241;43m5\u001b[39;49m\u001b[43m,\u001b[49m\u001b[38;5;241;43m10\u001b[39;49m\u001b[43m,\u001b[49m\u001b[43mb\u001b[49m\u001b[38;5;241;43m=\u001b[39;49m\u001b[38;5;241;43m5\u001b[39;49m\u001b[43m,\u001b[49m\u001b[43md\u001b[49m\u001b[38;5;241;43m=\u001b[39;49m\u001b[38;5;241;43m40\u001b[39;49m\u001b[43m,\u001b[49m\u001b[43mf\u001b[49m\u001b[38;5;241;43m=\u001b[39;49m\u001b[38;5;241;43m90\u001b[39;49m\u001b[43m)\u001b[49m\n",
      "\u001b[1;31mTypeError\u001b[0m: foo() got multiple values for argument 'b'"
     ]
    }
   ],
   "source": [
    "foo(5,10,b=5,d=40,f=90)"
   ]
  },
  {
   "cell_type": "code",
   "execution_count": 17,
   "id": "6f87f8a7",
   "metadata": {},
   "outputs": [
    {
     "name": "stdout",
     "output_type": "stream",
     "text": [
      "5 10\n"
     ]
    }
   ],
   "source": [
    "foo(5,10,c=5,d=40,f=90)"
   ]
  },
  {
   "cell_type": "markdown",
   "id": "df7594ba",
   "metadata": {},
   "source": [
    "# Print and return statement"
   ]
  },
  {
   "cell_type": "code",
   "execution_count": 18,
   "id": "55a41bf5",
   "metadata": {},
   "outputs": [
    {
     "name": "stdout",
     "output_type": "stream",
     "text": [
      "22\n"
     ]
    }
   ],
   "source": [
    "def foo(a,b,c):\n",
    "    print(a+b+c)\n",
    "    \n",
    "foo(5,8,9)"
   ]
  },
  {
   "cell_type": "code",
   "execution_count": 19,
   "id": "5e3a88a6",
   "metadata": {},
   "outputs": [
    {
     "name": "stdout",
     "output_type": "stream",
     "text": [
      "22\n"
     ]
    },
    {
     "ename": "TypeError",
     "evalue": "unsupported operand type(s) for ** or pow(): 'NoneType' and 'float'",
     "output_type": "error",
     "traceback": [
      "\u001b[1;31m---------------------------------------------------------------------------\u001b[0m",
      "\u001b[1;31mTypeError\u001b[0m                                 Traceback (most recent call last)",
      "Cell \u001b[1;32mIn[19], line 2\u001b[0m\n\u001b[0;32m      1\u001b[0m d\u001b[38;5;241m=\u001b[39mfoo(\u001b[38;5;241m5\u001b[39m,\u001b[38;5;241m8\u001b[39m,\u001b[38;5;241m9\u001b[39m)\n\u001b[1;32m----> 2\u001b[0m \u001b[43md\u001b[49m\u001b[38;5;241;43m*\u001b[39;49m\u001b[38;5;241;43m*\u001b[39;49m\u001b[38;5;241;43m0.5\u001b[39;49m\n",
      "\u001b[1;31mTypeError\u001b[0m: unsupported operand type(s) for ** or pow(): 'NoneType' and 'float'"
     ]
    }
   ],
   "source": [
    "d=foo(5,8,9)\n",
    "d**0.5"
   ]
  },
  {
   "cell_type": "code",
   "execution_count": 20,
   "id": "70f66d0a",
   "metadata": {},
   "outputs": [
    {
     "name": "stdout",
     "output_type": "stream",
     "text": [
      "None\n"
     ]
    }
   ],
   "source": [
    "print(d)"
   ]
  },
  {
   "cell_type": "markdown",
   "id": "ca60f0bd",
   "metadata": {},
   "source": [
    "## Use of return instead of print"
   ]
  },
  {
   "cell_type": "code",
   "execution_count": 21,
   "id": "d177665f",
   "metadata": {},
   "outputs": [],
   "source": [
    "def foo(a,b,c):\n",
    "    return(a+b+c)"
   ]
  },
  {
   "cell_type": "code",
   "execution_count": 22,
   "id": "15cec8d5",
   "metadata": {},
   "outputs": [
    {
     "data": {
      "text/plain": [
       "6"
      ]
     },
     "execution_count": 22,
     "metadata": {},
     "output_type": "execute_result"
    }
   ],
   "source": [
    "d=foo(1,2,3)\n",
    "d"
   ]
  },
  {
   "cell_type": "code",
   "execution_count": 23,
   "id": "0dc4e2e3",
   "metadata": {},
   "outputs": [],
   "source": [
    "def foo(a,b,c):\n",
    "    d=a+b+c\n",
    "    return d\n",
    "    e = b-c\n",
    "    return d, e"
   ]
  },
  {
   "cell_type": "code",
   "execution_count": 24,
   "id": "27501a20",
   "metadata": {},
   "outputs": [
    {
     "data": {
      "text/plain": [
       "6"
      ]
     },
     "execution_count": 24,
     "metadata": {},
     "output_type": "execute_result"
    }
   ],
   "source": [
    "foo(1,2,3)"
   ]
  },
  {
   "cell_type": "code",
   "execution_count": 25,
   "id": "dc6b2b81",
   "metadata": {},
   "outputs": [],
   "source": [
    "# write a function which accepts two numbers "
   ]
  },
  {
   "cell_type": "code",
   "execution_count": 32,
   "id": "2eb9ff43",
   "metadata": {},
   "outputs": [],
   "source": [
    "def num(a,b):\n",
    "    d=a+b\n",
    "    return(d)\n",
    "\n",
    "    "
   ]
  },
  {
   "cell_type": "code",
   "execution_count": 33,
   "id": "e1cc392c",
   "metadata": {},
   "outputs": [
    {
     "data": {
      "text/plain": [
       "11"
      ]
     },
     "execution_count": 33,
     "metadata": {},
     "output_type": "execute_result"
    }
   ],
   "source": [
    "num(7,4)"
   ]
  },
  {
   "cell_type": "code",
   "execution_count": 1,
   "id": "d6f9cc3c",
   "metadata": {},
   "outputs": [],
   "source": [
    "def num(a,b):\n",
    "    \n",
    "    while a in range(10):\n",
    "        if a%2==0 and b==0:\n",
    "            return(a,b)\n",
    "        elif a%2==0:\n",
    "        \n",
    "            return(a, b) \n",
    "    \n"
   ]
  },
  {
   "cell_type": "code",
   "execution_count": 2,
   "id": "d9c98a2d",
   "metadata": {},
   "outputs": [
    {
     "data": {
      "text/plain": [
       "(2, 5)"
      ]
     },
     "execution_count": 2,
     "metadata": {},
     "output_type": "execute_result"
    }
   ],
   "source": [
    "num(2,5)"
   ]
  },
  {
   "cell_type": "code",
   "execution_count": 3,
   "id": "b15c8184",
   "metadata": {},
   "outputs": [
    {
     "data": {
      "text/plain": [
       "([10, 12, 14, 16, 18, 20], [20])"
      ]
     },
     "execution_count": 3,
     "metadata": {},
     "output_type": "execute_result"
    }
   ],
   "source": [
    "def foo(a,b):\n",
    "    evenL=[]\n",
    "    oddL= []\n",
    "    \n",
    "    for i in range(a,b+1):\n",
    "        if i%2==0:\n",
    "            evenL.append(i)\n",
    "    else:\n",
    "        oddL.append(i)\n",
    "        \n",
    "    return(evenL, oddL)\n",
    "\n",
    "foo(10,20)"
   ]
  },
  {
   "cell_type": "code",
   "execution_count": 4,
   "id": "206752d7",
   "metadata": {},
   "outputs": [
    {
     "data": {
      "text/plain": [
       "([16, 18, 20], [20])"
      ]
     },
     "execution_count": 4,
     "metadata": {},
     "output_type": "execute_result"
    }
   ],
   "source": [
    "foo(15,20)"
   ]
  },
  {
   "cell_type": "markdown",
   "id": "24f51ac9",
   "metadata": {},
   "source": [
    "### def  arguments"
   ]
  },
  {
   "cell_type": "code",
   "execution_count": 5,
   "id": "7336db1c",
   "metadata": {},
   "outputs": [
    {
     "name": "stdout",
     "output_type": "stream",
     "text": [
      "[10, 12, 14, 16, 18, 20]\n",
      "[20]\n"
     ]
    }
   ],
   "source": [
    "e, o=foo(10,20)\n",
    "print(e, o, sep='\\n')"
   ]
  },
  {
   "cell_type": "code",
   "execution_count": null,
   "id": "da500d88",
   "metadata": {},
   "outputs": [],
   "source": []
  },
  {
   "cell_type": "code",
   "execution_count": 15,
   "id": "aac24153",
   "metadata": {},
   "outputs": [],
   "source": [
    "def mul(a,b):\n",
    "    c=a*b\n",
    "    return(c)\n"
   ]
  },
  {
   "cell_type": "code",
   "execution_count": 18,
   "id": "e78e6521",
   "metadata": {},
   "outputs": [
    {
     "data": {
      "text/plain": [
       "3125"
      ]
     },
     "execution_count": 18,
     "metadata": {},
     "output_type": "execute_result"
    }
   ],
   "source": [
    "mul(25,125)"
   ]
  },
  {
   "cell_type": "code",
   "execution_count": 5,
   "id": "8c7c86f6",
   "metadata": {},
   "outputs": [
    {
     "ename": "IndentationError",
     "evalue": "expected an indented block after 'if' statement on line 5 (223938047.py, line 6)",
     "output_type": "error",
     "traceback": [
      "\u001b[1;36m  Cell \u001b[1;32mIn[5], line 6\u001b[1;36m\u001b[0m\n\u001b[1;33m    print(i)\u001b[0m\n\u001b[1;37m    ^\u001b[0m\n\u001b[1;31mIndentationError\u001b[0m\u001b[1;31m:\u001b[0m expected an indented block after 'if' statement on line 5\n"
     ]
    }
   ],
   "source": [
    "# Argumemnts in Functions:\n",
    "\n",
    "def findMultiples(x,y):\n",
    "    for i in range(x,y+1):\n",
    "        if x >y:\n",
    "        print(i)\n",
    "        \n",
    "findMultiples(120, 240)\n"
   ]
  },
  {
   "cell_type": "code",
   "execution_count": 17,
   "id": "23526678",
   "metadata": {},
   "outputs": [],
   "source": [
    "def foo(a,b):\n",
    "    x = []\n",
    "    if a > b:\n",
    "        for i in range(b, a+1):\n",
    "            if i%3==0:\n",
    "                x.append(i)\n",
    "        return x\n",
    "\n",
    "    elif b > a:\n",
    "        for i in range(a, b+1):\n",
    "            if i%3==0:\n",
    "                x.append(i)\n",
    "        return x\n",
    "\n",
    "    else:\n",
    "        \n",
    "        print(f'both{a} & {b} are same')\n",
    "        "
   ]
  },
  {
   "cell_type": "code",
   "execution_count": 18,
   "id": "2f84a158",
   "metadata": {},
   "outputs": [
    {
     "data": {
      "text/plain": [
       "[12, 15, 18, 21, 24, 27, 30]"
      ]
     },
     "execution_count": 18,
     "metadata": {},
     "output_type": "execute_result"
    }
   ],
   "source": [
    "foo(10,30)"
   ]
  },
  {
   "cell_type": "code",
   "execution_count": 19,
   "id": "6b3768e7",
   "metadata": {},
   "outputs": [
    {
     "data": {
      "text/plain": [
       "[3, 6, 9]"
      ]
     },
     "execution_count": 19,
     "metadata": {},
     "output_type": "execute_result"
    }
   ],
   "source": [
    "foo(1,10)"
   ]
  },
  {
   "cell_type": "code",
   "execution_count": 20,
   "id": "023729db",
   "metadata": {},
   "outputs": [
    {
     "data": {
      "text/plain": [
       "[]"
      ]
     },
     "execution_count": 20,
     "metadata": {},
     "output_type": "execute_result"
    }
   ],
   "source": [
    "foo(10,11)"
   ]
  },
  {
   "cell_type": "code",
   "execution_count": 24,
   "id": "749c8b9b",
   "metadata": {},
   "outputs": [],
   "source": [
    "# define the func\n",
    "# writing a funct\n",
    "\n",
    "# def fun_name(parameters):\n",
    "\n",
    "# def in action\n",
    "\n",
    "# keyword say interpreter hat func_name takes (paramerter)   and executes the syntax the the syntaxxaly convet block code\n",
    "\n",
    "# def foo(a,b):\n",
    "  #  print(a+b)\n",
    "    \n",
    "# stage 2= calling the func\n",
    "           # we call the func by its name and pass\n",
    "    \n",
    "    # foo(5,3)\n",
    "    # 8\n",
    "    "
   ]
  },
  {
   "cell_type": "code",
   "execution_count": null,
   "id": "841a1fbe",
   "metadata": {},
   "outputs": [],
   "source": [
    "def foo(a,b,i):\n",
    "    m=[]\n",
    "    n=[]\n",
    "    if a <b:\n",
    "        for x in range(a,b+)"
   ]
  },
  {
   "cell_type": "markdown",
   "id": "31c9f794",
   "metadata": {},
   "source": [
    "# Keyword arguments:"
   ]
  },
  {
   "cell_type": "code",
   "execution_count": 26,
   "id": "ce11a043",
   "metadata": {},
   "outputs": [
    {
     "ename": "SyntaxError",
     "evalue": "invalid syntax (2173745524.py, line 12)",
     "output_type": "error",
     "traceback": [
      "\u001b[1;36m  Cell \u001b[1;32mIn[26], line 12\u001b[1;36m\u001b[0m\n\u001b[1;33m    * stands for before arguments\u001b[0m\n\u001b[1;37m             ^\u001b[0m\n\u001b[1;31mSyntaxError\u001b[0m\u001b[1;31m:\u001b[0m invalid syntax\n"
     ]
    }
   ],
   "source": [
    "# count vechorizer\n",
    "\n",
    "# def foo(a,b,c=,d=,):\n",
    "    # foo(a,5,7,m=a)\n",
    "    \n",
    "    \n",
    "# def foo (a,b,c)\n",
    "\n",
    "# default argument should come at the very end\n",
    "# args\n",
    "# keyargs\n",
    "* stands for before arguments\n",
    "\n",
    "*args\n",
    "*keyargs "
   ]
  },
  {
   "cell_type": "code",
   "execution_count": 31,
   "id": "1e532881",
   "metadata": {},
   "outputs": [
    {
     "name": "stdout",
     "output_type": "stream",
     "text": [
      "40\n"
     ]
    }
   ],
   "source": [
    "def num(a=50, b=5, c=10):\n",
    "    print(a +(b-c))\n",
    "    \n",
    "num(20,30)"
   ]
  },
  {
   "cell_type": "code",
   "execution_count": null,
   "id": "4b89808e",
   "metadata": {},
   "outputs": [],
   "source": [
    "# Task using functions replicate string upper, lower, swapcase without using string methods\n",
    "\n",
    "def foo Upper('x'):\n",
    "    foo Upper('1+i')"
   ]
  },
  {
   "cell_type": "code",
   "execution_count": null,
   "id": "55c2539f",
   "metadata": {},
   "outputs": [],
   "source": [
    "def uppercase(str_data):\n",
    "    "
   ]
  },
  {
   "cell_type": "code",
   "execution_count": 32,
   "id": "5ad587e2",
   "metadata": {},
   "outputs": [],
   "source": [
    "def uppercase(str_data):\n",
    "   ord('str_data')\n",
    "   str_data = str_data -32\n",
    "   chr('str_data')\n",
    "   return str_data"
   ]
  },
  {
   "cell_type": "code",
   "execution_count": 35,
   "id": "e22d09eb",
   "metadata": {},
   "outputs": [
    {
     "ename": "TypeError",
     "evalue": "uppercase() missing 1 required positional argument: 'str_data'",
     "output_type": "error",
     "traceback": [
      "\u001b[1;31m---------------------------------------------------------------------------\u001b[0m",
      "\u001b[1;31mTypeError\u001b[0m                                 Traceback (most recent call last)",
      "Cell \u001b[1;32mIn[35], line 1\u001b[0m\n\u001b[1;32m----> 1\u001b[0m \u001b[43muppercase\u001b[49m\u001b[43m(\u001b[49m\u001b[43m)\u001b[49m\n",
      "\u001b[1;31mTypeError\u001b[0m: uppercase() missing 1 required positional argument: 'str_data'"
     ]
    }
   ],
   "source": [
    "uppercase()"
   ]
  },
  {
   "cell_type": "code",
   "execution_count": null,
   "id": "993e67a0",
   "metadata": {},
   "outputs": [],
   "source": []
  }
 ],
 "metadata": {
  "kernelspec": {
   "display_name": "Python 3 (ipykernel)",
   "language": "python",
   "name": "python3"
  },
  "language_info": {
   "codemirror_mode": {
    "name": "ipython",
    "version": 3
   },
   "file_extension": ".py",
   "mimetype": "text/x-python",
   "name": "python",
   "nbconvert_exporter": "python",
   "pygments_lexer": "ipython3",
   "version": "3.10.9"
  }
 },
 "nbformat": 4,
 "nbformat_minor": 5
}
