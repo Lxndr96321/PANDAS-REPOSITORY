{
 "cells": [
  {
   "cell_type": "code",
   "execution_count": null,
   "id": "98a6355c",
   "metadata": {},
   "outputs": [],
   "source": [
    "* numpy = numerical python \n",
    "# \n",
    "# * numerical python use  built using 'c' language.\n",
    "# \n",
    "# * Because it code in 'c' to address a specific purpose.\n",
    "# \n",
    "# *Numerical computation in numpy in 'c' code.\n",
    "# \n",
    "# *it is faster when compared to python list(nested list)\n",
    "# \n",
    "# *In numpy we have multi-dimentional array\n",
    "#  \n",
    "#  \n",
    "#  Note----> numpy arrys are not only faster than python's list,\n",
    "#  \n",
    "#  but they also offer convinence & functionality .\n",
    "#  \n",
    "#  with respective numarical cometions like vector & matric's operations.\n",
    "#  \n",
    "#  scince numpy is coded in 'c' & 'c' loops  would requred type chats,\n",
    "#  \n",
    "#  over python APL book keeping\n",
    "#  \n",
    "#  couple of oprtion's can be\n",
    "#  \n",
    "#  careed out more effctivly\n",
    "#  \n",
    "#  Numpy arrys as fixed lenth, updateing \n",
    "#  \n",
    "#  numpy arry we will create new numppy arry & deleate\n",
    "#  \n",
    "#  previous one.\n",
    "#  \n",
    "#  *numpy arry also  consumes less memory"
   ]
  },
  {
   "cell_type": "code",
   "execution_count": 1,
   "id": "1849b443",
   "metadata": {},
   "outputs": [],
   "source": [
    "import numpy as np"
   ]
  },
  {
   "cell_type": "code",
   "execution_count": 2,
   "id": "964577c5",
   "metadata": {},
   "outputs": [
    {
     "data": {
      "text/plain": [
       "array([1, 2, 3, 4, 5])"
      ]
     },
     "execution_count": 2,
     "metadata": {},
     "output_type": "execute_result"
    }
   ],
   "source": [
    "oneD = np.array([1,2,3,4,5])\n",
    "oneD"
   ]
  },
  {
   "cell_type": "code",
   "execution_count": 7,
   "id": "fefa8af2",
   "metadata": {},
   "outputs": [
    {
     "data": {
      "text/plain": [
       "numpy.ndarray"
      ]
     },
     "execution_count": 7,
     "metadata": {},
     "output_type": "execute_result"
    }
   ],
   "source": [
    "type(oneD)"
   ]
  },
  {
   "cell_type": "code",
   "execution_count": 4,
   "id": "21d5ac3b",
   "metadata": {},
   "outputs": [],
   "source": [
    "# dir(oneD)"
   ]
  },
  {
   "cell_type": "code",
   "execution_count": 30,
   "id": "5033ff9a",
   "metadata": {},
   "outputs": [
    {
     "name": "stdout",
     "output_type": "stream",
     "text": [
      "[1 2 3 4 5]\n",
      "The oneD array belongs to type<class 'numpy.ndarray'> of 1 dimenstion,\n",
      "    has lenght 5 , with size 5 and shape (5,) \n"
     ]
    }
   ],
   "source": [
    "print(oneD)\n",
    "print(f'''The oneD array belongs to type{type(oneD)} of {oneD.ndim} dimenstion,\n",
    "    has lenght {len(oneD)} , with size {oneD.size} and shape {oneD.shape} ''')"
   ]
  },
  {
   "cell_type": "code",
   "execution_count": 14,
   "id": "451aa1fd",
   "metadata": {},
   "outputs": [],
   "source": [
    "# creating a 2-d array"
   ]
  },
  {
   "cell_type": "code",
   "execution_count": 27,
   "id": "d7a62992",
   "metadata": {},
   "outputs": [
    {
     "name": "stdout",
     "output_type": "stream",
     "text": [
      "[[1 2 3]\n",
      " [4 5 6]]\n",
      "The oneD array belongs to type<class 'numpy.ndarray'> of 2 dimenstion, \n",
      "    has lenght 2 , with size 6 and shape (2, 3) \n"
     ]
    }
   ],
   "source": [
    "twoD = np.array([[1,2,3],\n",
    "                 [4,5,6]])\n",
    "print(twoD)\n",
    "print(f'''The oneD array belongs to type{type(twoD)} of {twoD.ndim} dimenstion, \n",
    "    has lenght {len(twoD)} , with size {twoD.size} and shape {twoD.shape} ''')"
   ]
  },
  {
   "cell_type": "code",
   "execution_count": 14,
   "id": "02bf4812",
   "metadata": {},
   "outputs": [
    {
     "name": "stdout",
     "output_type": "stream",
     "text": [
      "[[[1 2 3]\n",
      "  [4 5 6]\n",
      "  [7 8 9]]]\n",
      "The oneD array belongs to type<class 'numpy.ndarray'> of 3 dimenstion, \n",
      "    has lenght 1 , with size 9 and shape (1, 3, 3) \n"
     ]
    }
   ],
   "source": [
    "threeD = np.array([[[1,2,3],\n",
    "                    [4,5,6],\n",
    "                    [7,8,9]]])\n",
    "print(threeD)\n",
    "print(f'''The oneD array belongs to type{type(threeD)} of {threeD.ndim} dimenstion, \n",
    "    has lenght {len(threeD)} , with size {threeD.size} and shape {threeD.shape} ''')"
   ]
  },
  {
   "cell_type": "code",
   "execution_count": 70,
   "id": "c124b59a",
   "metadata": {},
   "outputs": [
    {
     "name": "stdout",
     "output_type": "stream",
     "text": [
      "[[[ 1  2  3]\n",
      "  [ 4  5  6]]\n",
      "\n",
      " [[ 7  8  9]\n",
      "  [10 11 12]]]\n",
      "The oneD array belongs to type<class 'numpy.ndarray'> of 3 dimenstion, \n",
      "    has lenght 2 , with size 12 and shape (2, 2, 3) \n"
     ]
    }
   ],
   "source": [
    "threeD = np.array([[[1,2,3],\n",
    "                    [4,5,6]],\n",
    "                    \n",
    "                    [[7,8,9],\n",
    "                    [10,11,12]]])\n",
    "print(threeD)\n",
    "print(f'''The oneD array belongs to type{type(threeD)} of {threeD.ndim} dimenstion, \n",
    "    has lenght {len(threeD)} , with size {threeD.size} and shape {threeD.shape} ''')"
   ]
  },
  {
   "cell_type": "code",
   "execution_count": 71,
   "id": "4697eb99",
   "metadata": {},
   "outputs": [
    {
     "name": "stderr",
     "output_type": "stream",
     "text": [
      "C:\\Users\\kalag\\AppData\\Local\\Temp\\ipykernel_14944\\391596526.py:8: VisibleDeprecationWarning: Creating an ndarray from ragged nested sequences (which is a list-or-tuple of lists-or-tuples-or ndarrays with different lengths or shapes) is deprecated. If you meant to do this, you must specify 'dtype=object' when creating the ndarray.\n",
      "  x = np.array(x)\n"
     ]
    },
    {
     "data": {
      "text/plain": [
       "array([1, 2, 3, 4, 5, list([6, 7, 8, 9, [10, 11, 12, [13, 14, [15]]]])],\n",
       "      dtype=object)"
      ]
     },
     "execution_count": 71,
     "metadata": {},
     "output_type": "execute_result"
    }
   ],
   "source": [
    "x = [1,2,3,4,5,\n",
    "      [6,7,8,9,\n",
    "        [10,11,12,\n",
    "           [13,14,\n",
    "             [15]]]]]\n",
    "\n",
    "\n",
    "x = np.array(x)\n",
    "x"
   ]
  },
  {
   "cell_type": "code",
   "execution_count": 72,
   "id": "05607c98",
   "metadata": {},
   "outputs": [
    {
     "name": "stdout",
     "output_type": "stream",
     "text": [
      "The oneD array belongs to type<class 'numpy.ndarray'> of 1 dimenstion, \n",
      "    has lenght 6 , with size 6 and shape (6,) \n"
     ]
    }
   ],
   "source": [
    "print(f'''The oneD array belongs to type{type(x)} of {x.ndim} dimenstion, \n",
    "    has lenght {len(x)} , with size {x.size} and shape {x.shape} ''')"
   ]
  },
  {
   "cell_type": "code",
   "execution_count": 73,
   "id": "9387ece8",
   "metadata": {},
   "outputs": [
    {
     "data": {
      "text/plain": [
       "[6, 7, [10, 11, [13, 14]]]"
      ]
     },
     "execution_count": 73,
     "metadata": {},
     "output_type": "execute_result"
    }
   ],
   "source": [
    "a= list([6, 7, [10, 11, [13, 14]]])\n",
    "a"
   ]
  },
  {
   "cell_type": "code",
   "execution_count": 74,
   "id": "094bcb38",
   "metadata": {},
   "outputs": [
    {
     "name": "stderr",
     "output_type": "stream",
     "text": [
      "C:\\Users\\kalag\\AppData\\Local\\Temp\\ipykernel_14944\\1049661893.py:2: VisibleDeprecationWarning: Creating an ndarray from ragged nested sequences (which is a list-or-tuple of lists-or-tuples-or ndarrays with different lengths or shapes) is deprecated. If you meant to do this, you must specify 'dtype=object' when creating the ndarray.\n",
      "  x = np.array(x)\n"
     ]
    },
    {
     "data": {
      "text/plain": [
       "array([6, 7, list([10, 11, [13, 14]])], dtype=object)"
      ]
     },
     "execution_count": 74,
     "metadata": {},
     "output_type": "execute_result"
    }
   ],
   "source": [
    "x = [6, 7, [10, 11, [13, 14]]]\n",
    "x = np.array(x)\n",
    "x"
   ]
  },
  {
   "cell_type": "code",
   "execution_count": 46,
   "id": "b2ca150f",
   "metadata": {},
   "outputs": [
    {
     "name": "stdout",
     "output_type": "stream",
     "text": [
      "The oneD array belongs to type<class 'numpy.ndarray'> of 1 dimenstion, \n",
      "    has lenght 3 , with size 3 and shape (3,) \n"
     ]
    }
   ],
   "source": [
    "print(f'''The oneD array belongs to type{type(x)} of {x.ndim} dimenstion, \n",
    "    has lenght {len(x)} , with size {x.size} and shape {x.shape} ''')"
   ]
  },
  {
   "cell_type": "code",
   "execution_count": 47,
   "id": "647fe875",
   "metadata": {},
   "outputs": [],
   "source": [
    "# indexing & slicing"
   ]
  },
  {
   "cell_type": "code",
   "execution_count": 58,
   "id": "2fb7b779",
   "metadata": {},
   "outputs": [
    {
     "name": "stdout",
     "output_type": "stream",
     "text": [
      "[[1 2 3]\n",
      " [4 5 6]]\n"
     ]
    },
    {
     "data": {
      "text/plain": [
       "(array([1, 2, 3]), 1, 1)"
      ]
     },
     "execution_count": 58,
     "metadata": {},
     "output_type": "execute_result"
    }
   ],
   "source": [
    "print(twoD)\n",
    "twoD[0] , twoD[0][0] , twoD[0,0]"
   ]
  },
  {
   "cell_type": "code",
   "execution_count": 61,
   "id": "42828521",
   "metadata": {},
   "outputs": [
    {
     "name": "stdout",
     "output_type": "stream",
     "text": [
      "[ 1  2  3  4  5  6  7  8  9 10 11 12 13 14 15 16 17 18 19 20]\n"
     ]
    },
    {
     "data": {
      "text/plain": [
       "array([ 1,  2,  3,  4,  5,  6,  7,  8,  9, 10, 11, 12, 13, 14, 15, 16, 17,\n",
       "       18, 19, 20])"
      ]
     },
     "execution_count": 61,
     "metadata": {},
     "output_type": "execute_result"
    }
   ],
   "source": [
    "oneD = np.array([ele for ele in range(1,21)])\n",
    "print(oneD)\n",
    "oneD[::]"
   ]
  },
  {
   "cell_type": "code",
   "execution_count": 63,
   "id": "e21de377",
   "metadata": {},
   "outputs": [
    {
     "data": {
      "text/plain": [
       "array([20, 19, 18, 17, 16, 15, 14, 13, 12, 11, 10,  9,  8,  7,  6,  5,  4,\n",
       "        3,  2,  1])"
      ]
     },
     "execution_count": 63,
     "metadata": {},
     "output_type": "execute_result"
    }
   ],
   "source": [
    "oneD[::-1]"
   ]
  },
  {
   "cell_type": "code",
   "execution_count": 66,
   "id": "399ef5c0",
   "metadata": {},
   "outputs": [
    {
     "data": {
      "text/plain": [
       "(array([3, 5, 7, 9]), array([19, 17, 15, 13]))"
      ]
     },
     "execution_count": 66,
     "metadata": {},
     "output_type": "execute_result"
    }
   ],
   "source": [
    "oneD[2:10:2] , oneD[-2:-10:-2]"
   ]
  },
  {
   "cell_type": "code",
   "execution_count": 67,
   "id": "7e30dfd5",
   "metadata": {},
   "outputs": [
    {
     "data": {
      "text/plain": [
       "array([20, 19, 18, 17, 16, 15, 14, 13, 12])"
      ]
     },
     "execution_count": 67,
     "metadata": {},
     "output_type": "execute_result"
    }
   ],
   "source": [
    "oneD[20:10:-1]"
   ]
  },
  {
   "cell_type": "code",
   "execution_count": 69,
   "id": "c7481355",
   "metadata": {},
   "outputs": [
    {
     "data": {
      "text/plain": [
       "array([20, 19, 18, 17, 16, 15, 14, 13])"
      ]
     },
     "execution_count": 69,
     "metadata": {},
     "output_type": "execute_result"
    }
   ],
   "source": [
    "oneD[-1:-9:-1]"
   ]
  },
  {
   "cell_type": "code",
   "execution_count": 5,
   "id": "8c194368",
   "metadata": {},
   "outputs": [
    {
     "name": "stdout",
     "output_type": "stream",
     "text": [
      "[[[ 1  2  3]\n",
      "  [ 4  5  6]]\n",
      "\n",
      " [[ 7  8  9]\n",
      "  [10 11 12]]\n",
      "\n",
      " [[13 14 15]\n",
      "  [16 17 18]]]\n",
      "The oneD array belongs to type<class 'numpy.ndarray'> of 3 dimenstion, \n",
      "    has lenght 3 , with size 18 and shape (3, 2, 3) \n"
     ]
    }
   ],
   "source": [
    "threeD = np.array([[[1,2,3],\n",
    "                    [4,5,6]],\n",
    "                    \n",
    "                    [[7,8,9],\n",
    "                    [10,11,12]],\n",
    "                    \n",
    "                    [[13,14,15],\n",
    "                    [16,17,18]]])\n",
    "print(threeD)\n",
    "print(f'''The oneD array belongs to type{type(threeD)} of {threeD.ndim} dimenstion, \n",
    "    has lenght {len(threeD)} , with size {threeD.size} and shape {threeD.shape} ''')threeD = np.array([[[1,2,3],\n",
    "                    [4,5,6]],\n",
    "                    \n",
    "                    [[7,8,9],\n",
    "                    [10,11,12]],\n",
    "                    \n",
    "                    [[13,14,15],\n",
    "                    [16,17,18]]])"
   ]
  },
  {
   "cell_type": "code",
   "execution_count": 11,
   "id": "f9ae424b",
   "metadata": {},
   "outputs": [
    {
     "data": {
      "text/plain": [
       "11"
      ]
     },
     "execution_count": 11,
     "metadata": {},
     "output_type": "execute_result"
    }
   ],
   "source": [
    "threeD[1,1,1]"
   ]
  },
  {
   "cell_type": "code",
   "execution_count": 7,
   "id": "2e98b3cd",
   "metadata": {},
   "outputs": [
    {
     "data": {
      "text/plain": [
       "array([[7, 8, 9]])"
      ]
     },
     "execution_count": 7,
     "metadata": {},
     "output_type": "execute_result"
    }
   ],
   "source": [
    "threeD[1][:][::2]"
   ]
  },
  {
   "cell_type": "code",
   "execution_count": 8,
   "id": "77acbb7a",
   "metadata": {},
   "outputs": [
    {
     "data": {
      "text/plain": [
       "array([[ 7,  9],\n",
       "       [10, 12]])"
      ]
     },
     "execution_count": 8,
     "metadata": {},
     "output_type": "execute_result"
    }
   ],
   "source": [
    "threeD[1,:,::2]"
   ]
  },
  {
   "cell_type": "code",
   "execution_count": 9,
   "id": "89577091",
   "metadata": {},
   "outputs": [
    {
     "data": {
      "text/plain": [
       "array([[7, 8, 9]])"
      ]
     },
     "execution_count": 9,
     "metadata": {},
     "output_type": "execute_result"
    }
   ],
   "source": [
    "threeD[1][:][::2]"
   ]
  },
  {
   "cell_type": "code",
   "execution_count": null,
   "id": "f3dd7e4f",
   "metadata": {
    "scrolled": true
   },
   "outputs": [],
   "source": []
  },
  {
   "cell_type": "code",
   "execution_count": 22,
   "id": "292ebde0",
   "metadata": {
    "scrolled": true
   },
   "outputs": [
    {
     "name": "stdout",
     "output_type": "stream",
     "text": [
      "Help on method_descriptor:\n",
      "\n",
      "strip(self, chars=None, /)\n",
      "    Return a copy of the string with leading and trailing whitespace removed.\n",
      "    \n",
      "    If chars is given and not None, remove characters in chars instead.\n",
      "\n"
     ]
    }
   ],
   "source": [
    "help(str.strip)"
   ]
  },
  {
   "cell_type": "code",
   "execution_count": 4,
   "id": "80646f4b",
   "metadata": {},
   "outputs": [],
   "source": [
    "import numpy as np"
   ]
  },
  {
   "cell_type": "code",
   "execution_count": 5,
   "id": "8a98bfd7",
   "metadata": {},
   "outputs": [],
   "source": [
    "threeD = np.array([[[1,2,3],\n",
    "                    [4,5,6]],\n",
    "                    \n",
    "                    [[7,8,9],\n",
    "                    [10,11,12]],\n",
    "                    \n",
    "                    [[13,14,15],\n",
    "                    [16,17,18]]])"
   ]
  },
  {
   "cell_type": "code",
   "execution_count": 6,
   "id": "d70d062e",
   "metadata": {},
   "outputs": [
    {
     "data": {
      "text/plain": [
       "11"
      ]
     },
     "execution_count": 6,
     "metadata": {},
     "output_type": "execute_result"
    }
   ],
   "source": [
    "threeD[1][1,1]"
   ]
  },
  {
   "cell_type": "code",
   "execution_count": 7,
   "id": "65dda160",
   "metadata": {},
   "outputs": [
    {
     "data": {
      "text/plain": [
       "14"
      ]
     },
     "execution_count": 7,
     "metadata": {},
     "output_type": "execute_result"
    }
   ],
   "source": [
    "threeD[2][0][1]"
   ]
  },
  {
   "cell_type": "code",
   "execution_count": 9,
   "id": "59af3ce6",
   "metadata": {},
   "outputs": [
    {
     "data": {
      "text/plain": [
       "array([[1, 2, 3]])"
      ]
     },
     "execution_count": 9,
     "metadata": {},
     "output_type": "execute_result"
    }
   ],
   "source": [
    "threeD[[::2]"
   ]
  },
  {
   "cell_type": "code",
   "execution_count": 11,
   "id": "a57ac31a",
   "metadata": {},
   "outputs": [
    {
     "data": {
      "text/plain": [
       "array([[[ 1,  3],\n",
       "        [ 4,  6]],\n",
       "\n",
       "       [[13, 15],\n",
       "        [16, 18]]])"
      ]
     },
     "execution_count": 11,
     "metadata": {},
     "output_type": "execute_result"
    }
   ],
   "source": [
    "threeD[0::2,:,::2]"
   ]
  },
  {
   "cell_type": "code",
   "execution_count": 12,
   "id": "e55d5bf0",
   "metadata": {},
   "outputs": [
    {
     "data": {
      "text/plain": [
       "array([[[ 1,  2,  3],\n",
       "        [ 4,  5,  6]],\n",
       "\n",
       "       [[13, 14, 15],\n",
       "        [16, 17, 18]]])"
      ]
     },
     "execution_count": 12,
     "metadata": {},
     "output_type": "execute_result"
    }
   ],
   "source": [
    "threeD[::2]"
   ]
  },
  {
   "cell_type": "code",
   "execution_count": 13,
   "id": "bbdd9d24",
   "metadata": {},
   "outputs": [
    {
     "data": {
      "text/plain": [
       "array([[13, 14, 15],\n",
       "       [16, 17, 18]])"
      ]
     },
     "execution_count": 13,
     "metadata": {},
     "output_type": "execute_result"
    }
   ],
   "source": [
    "threeD[-1]"
   ]
  },
  {
   "cell_type": "code",
   "execution_count": 24,
   "id": "8b089213",
   "metadata": {},
   "outputs": [
    {
     "data": {
      "text/plain": [
       "array([[13, 14],\n",
       "       [ 7,  8],\n",
       "       [ 1,  2]])"
      ]
     },
     "execution_count": 24,
     "metadata": {},
     "output_type": "execute_result"
    }
   ],
   "source": [
    "threeD[::-1,0,:2]"
   ]
  },
  {
   "cell_type": "markdown",
   "id": "96c4f21e",
   "metadata": {},
   "source": [
    "# numpy Dtypes stands for data types and it describes how the bites of numpy array should be interpreted as.\n"
   ]
  },
  {
   "cell_type": "markdown",
   "id": "dee47ffc",
   "metadata": {},
   "source": [
    "# It also describes whether a data type a sub array and its shape. It also describes the size of the data\n",
    "# Lesser than a symbol in the beginning of dtype it means it is encoded in little endian encoding the least \n",
    "# Most significant value is stored in the smallest address.\n",
    "# "
   ]
  },
  {
   "cell_type": "markdown",
   "id": "01b60e09",
   "metadata": {},
   "source": [
    "# Available dtypes in numpy"
   ]
  },
  {
   "cell_type": "markdown",
   "id": "05563722",
   "metadata": {},
   "source": [
    "# numpy array in list"
   ]
  },
  {
   "cell_type": "code",
   "execution_count": 25,
   "id": "0787effc",
   "metadata": {},
   "outputs": [],
   "source": [
    "import sys"
   ]
  },
  {
   "cell_type": "code",
   "execution_count": 26,
   "id": "5a978053",
   "metadata": {},
   "outputs": [],
   "source": [
    "import time"
   ]
  },
  {
   "cell_type": "code",
   "execution_count": 29,
   "id": "4ec461a0",
   "metadata": {},
   "outputs": [],
   "source": [
    "a=np.arange(1,10)"
   ]
  },
  {
   "cell_type": "code",
   "execution_count": 30,
   "id": "4206c0fe",
   "metadata": {},
   "outputs": [
    {
     "data": {
      "text/plain": [
       "array([1, 2, 3, 4, 5, 6, 7, 8, 9])"
      ]
     },
     "execution_count": 30,
     "metadata": {},
     "output_type": "execute_result"
    }
   ],
   "source": [
    "a"
   ]
  },
  {
   "cell_type": "code",
   "execution_count": 2,
   "id": "cdbb153c",
   "metadata": {},
   "outputs": [],
   "source": [
    "import numpy as np"
   ]
  },
  {
   "cell_type": "code",
   "execution_count": 3,
   "id": "09880a00",
   "metadata": {},
   "outputs": [],
   "source": [
    "x=np.arange(45,60)"
   ]
  },
  {
   "cell_type": "code",
   "execution_count": 4,
   "id": "b5bec516",
   "metadata": {},
   "outputs": [
    {
     "data": {
      "text/plain": [
       "array([45, 46, 47, 48, 49, 50, 51, 52, 53, 54, 55, 56, 57, 58, 59])"
      ]
     },
     "execution_count": 4,
     "metadata": {},
     "output_type": "execute_result"
    }
   ],
   "source": [
    "x"
   ]
  },
  {
   "cell_type": "code",
   "execution_count": 6,
   "id": "897e69a4",
   "metadata": {},
   "outputs": [],
   "source": [
    "# help(np.arange)"
   ]
  },
  {
   "cell_type": "code",
   "execution_count": 20,
   "id": "48b30741",
   "metadata": {},
   "outputs": [],
   "source": [
    "# np.arrays vs lists\n",
    "\n",
    "import sys, time\n"
   ]
  },
  {
   "cell_type": "code",
   "execution_count": 29,
   "id": "1e091d55",
   "metadata": {},
   "outputs": [],
   "source": [
    "start=time.time()\n",
    "xls=[i for i in range(1,1000001)]\n",
    "end=time.time()\n",
    "tls=end-start"
   ]
  },
  {
   "cell_type": "code",
   "execution_count": 33,
   "id": "0a0df975",
   "metadata": {},
   "outputs": [],
   "source": [
    "start=time.time()\n",
    "xnp=np.arange(1,1000001)\n",
    "end=time.time()\n",
    "tnp=end-start\n"
   ]
  },
  {
   "cell_type": "code",
   "execution_count": 34,
   "id": "59b516a5",
   "metadata": {},
   "outputs": [
    {
     "data": {
      "text/plain": [
       "(0.0812063217163086, 0.0)"
      ]
     },
     "execution_count": 34,
     "metadata": {},
     "output_type": "execute_result"
    }
   ],
   "source": [
    "tls,tnp"
   ]
  },
  {
   "cell_type": "code",
   "execution_count": 35,
   "id": "086683ee",
   "metadata": {},
   "outputs": [
    {
     "data": {
      "text/plain": [
       "(8448728, 4000112)"
      ]
     },
     "execution_count": 35,
     "metadata": {},
     "output_type": "execute_result"
    }
   ],
   "source": [
    "sys.getsizeof(xls), sys.getsizeof(xnp)"
   ]
  },
  {
   "cell_type": "code",
   "execution_count": 37,
   "id": "545e76a5",
   "metadata": {},
   "outputs": [
    {
     "data": {
      "text/plain": [
       "(28, 4)"
      ]
     },
     "execution_count": 37,
     "metadata": {},
     "output_type": "execute_result"
    }
   ],
   "source": [
    "sys.getsizeof(xls[-1]), xnp.itemsize"
   ]
  },
  {
   "cell_type": "markdown",
   "id": "b4a62d71",
   "metadata": {},
   "source": [
    "# element wise operations"
   ]
  },
  {
   "cell_type": "code",
   "execution_count": 38,
   "id": "a3582f44",
   "metadata": {},
   "outputs": [
    {
     "data": {
      "text/plain": [
       "([1, 2, 3], array([1, 2, 3]))"
      ]
     },
     "execution_count": 38,
     "metadata": {},
     "output_type": "execute_result"
    }
   ],
   "source": [
    "xls=[1,2,3]\n",
    "xnp=np.array(xls)\n",
    "xls, xnp"
   ]
  },
  {
   "cell_type": "code",
   "execution_count": 39,
   "id": "4ad787ae",
   "metadata": {},
   "outputs": [
    {
     "data": {
      "text/plain": [
       "array([4, 5, 6])"
      ]
     },
     "execution_count": 39,
     "metadata": {},
     "output_type": "execute_result"
    }
   ],
   "source": [
    "xnp + 3"
   ]
  },
  {
   "cell_type": "code",
   "execution_count": 41,
   "id": "3c1d1b3b",
   "metadata": {},
   "outputs": [
    {
     "ename": "TypeError",
     "evalue": "can only concatenate list (not \"int\") to list",
     "output_type": "error",
     "traceback": [
      "\u001b[1;31m---------------------------------------------------------------------------\u001b[0m",
      "\u001b[1;31mTypeError\u001b[0m                                 Traceback (most recent call last)",
      "Cell \u001b[1;32mIn[41], line 1\u001b[0m\n\u001b[1;32m----> 1\u001b[0m \u001b[43mxls\u001b[49m\u001b[43m \u001b[49m\u001b[38;5;241;43m+\u001b[39;49m\u001b[43m \u001b[49m\u001b[38;5;241;43m3\u001b[39;49m\n",
      "\u001b[1;31mTypeError\u001b[0m: can only concatenate list (not \"int\") to list"
     ]
    }
   ],
   "source": [
    "xls + 3"
   ]
  },
  {
   "cell_type": "code",
   "execution_count": 42,
   "id": "167db2a1",
   "metadata": {},
   "outputs": [],
   "source": [
    "xx = xls + xnp"
   ]
  },
  {
   "cell_type": "code",
   "execution_count": 43,
   "id": "40b8d655",
   "metadata": {},
   "outputs": [
    {
     "data": {
      "text/plain": [
       "array([2, 4, 6])"
      ]
     },
     "execution_count": 43,
     "metadata": {},
     "output_type": "execute_result"
    }
   ],
   "source": [
    "xx"
   ]
  },
  {
   "cell_type": "code",
   "execution_count": 45,
   "id": "62302ff9",
   "metadata": {},
   "outputs": [
    {
     "data": {
      "text/plain": [
       "(numpy.ndarray, array([2, 4, 6]))"
      ]
     },
     "execution_count": 45,
     "metadata": {},
     "output_type": "execute_result"
    }
   ],
   "source": [
    "type(xx),xx"
   ]
  },
  {
   "cell_type": "code",
   "execution_count": 47,
   "id": "f809d57b",
   "metadata": {},
   "outputs": [],
   "source": [
    "def foo(x):\n",
    "    return x**0.5"
   ]
  },
  {
   "cell_type": "code",
   "execution_count": 48,
   "id": "cc729407",
   "metadata": {},
   "outputs": [
    {
     "data": {
      "text/plain": [
       "array([1.        , 1.41421356, 1.73205081])"
      ]
     },
     "execution_count": 48,
     "metadata": {},
     "output_type": "execute_result"
    }
   ],
   "source": [
    "foo(xnp)"
   ]
  },
  {
   "cell_type": "markdown",
   "id": "0ffd695c",
   "metadata": {},
   "source": [
    "# dtype"
   ]
  },
  {
   "cell_type": "code",
   "execution_count": 49,
   "id": "fd3d2516",
   "metadata": {},
   "outputs": [],
   "source": [
    "a = np.arange(1,11, dtype='float64')"
   ]
  },
  {
   "cell_type": "code",
   "execution_count": 50,
   "id": "3317cb5d",
   "metadata": {},
   "outputs": [
    {
     "data": {
      "text/plain": [
       "array([ 1.,  2.,  3.,  4.,  5.,  6.,  7.,  8.,  9., 10.])"
      ]
     },
     "execution_count": 50,
     "metadata": {},
     "output_type": "execute_result"
    }
   ],
   "source": [
    "a"
   ]
  },
  {
   "cell_type": "markdown",
   "id": "dc9bad8b",
   "metadata": {},
   "source": [
    "# ndmin"
   ]
  },
  {
   "cell_type": "code",
   "execution_count": 58,
   "id": "c2c0bef8",
   "metadata": {},
   "outputs": [],
   "source": [
    "a=np.array([[1,2,3],[4,5,6]],ndmin=5)"
   ]
  },
  {
   "cell_type": "code",
   "execution_count": 59,
   "id": "fe738634",
   "metadata": {},
   "outputs": [
    {
     "data": {
      "text/plain": [
       "array([[[[[1, 2, 3],\n",
       "          [4, 5, 6]]]]])"
      ]
     },
     "execution_count": 59,
     "metadata": {},
     "output_type": "execute_result"
    }
   ],
   "source": [
    "a"
   ]
  },
  {
   "cell_type": "markdown",
   "id": "581b9005",
   "metadata": {},
   "source": [
    "# ones in numpy array"
   ]
  },
  {
   "cell_type": "code",
   "execution_count": 60,
   "id": "4bebde48",
   "metadata": {},
   "outputs": [],
   "source": [
    "import numpy as np"
   ]
  },
  {
   "cell_type": "code",
   "execution_count": 70,
   "id": "25ac98ec",
   "metadata": {},
   "outputs": [
    {
     "name": "stdout",
     "output_type": "stream",
     "text": [
      "[1. 1. 1. 1. 1.]\n",
      "\n",
      "[[1. 1. 1.]\n",
      " [1. 1. 1.]\n",
      " [1. 1. 1.]]\n",
      "\n",
      "[[[1. 1. 1.]\n",
      "  [1. 1. 1.]\n",
      "  [1. 1. 1.]]\n",
      "\n",
      " [[1. 1. 1.]\n",
      "  [1. 1. 1.]\n",
      "  [1. 1. 1.]]\n",
      "\n",
      " [[1. 1. 1.]\n",
      "  [1. 1. 1.]\n",
      "  [1. 1. 1.]]]\n"
     ]
    }
   ],
   "source": [
    "\n",
    "x=np.ones(5)\n",
    "y=np.ones((3,3))\n",
    "z=np.ones((3,3,3))\n",
    "\n",
    "print(x,y,z, sep='\\n\\n')"
   ]
  },
  {
   "cell_type": "code",
   "execution_count": 71,
   "id": "03711092",
   "metadata": {},
   "outputs": [
    {
     "name": "stdout",
     "output_type": "stream",
     "text": [
      "[0. 0. 0. 0. 0.]\n",
      "\n",
      "[[0. 0. 0.]\n",
      " [0. 0. 0.]\n",
      " [0. 0. 0.]]\n",
      "\n",
      "[[[0. 0. 0.]\n",
      "  [0. 0. 0.]\n",
      "  [0. 0. 0.]]\n",
      "\n",
      " [[0. 0. 0.]\n",
      "  [0. 0. 0.]\n",
      "  [0. 0. 0.]]\n",
      "\n",
      " [[0. 0. 0.]\n",
      "  [0. 0. 0.]\n",
      "  [0. 0. 0.]]]\n"
     ]
    }
   ],
   "source": [
    "\n",
    "x=np.zeros(5)\n",
    "y=np.zeros((3,3))\n",
    "z=np.zeros((3,3,3))\n",
    "\n",
    "print(x,y,z, sep='\\n\\n')"
   ]
  },
  {
   "cell_type": "markdown",
   "id": "764cae39",
   "metadata": {},
   "source": [
    "# identity matrix"
   ]
  },
  {
   "cell_type": "code",
   "execution_count": 72,
   "id": "0ff5da83",
   "metadata": {},
   "outputs": [
    {
     "name": "stdout",
     "output_type": "stream",
     "text": [
      "[[1. 0.]\n",
      " [0. 1.]]\n",
      "\n",
      "[[1. 0. 0.]\n",
      " [0. 1. 0.]\n",
      " [0. 0. 1.]]\n",
      "\n",
      "[[1. 0. 0. 0.]\n",
      " [0. 1. 0. 0.]\n",
      " [0. 0. 1. 0.]\n",
      " [0. 0. 0. 1.]]\n"
     ]
    }
   ],
   "source": [
    "x=np.eye(2)\n",
    "y=np.eye(3)\n",
    "z=np.eye(4)\n",
    "\n",
    "print(x,y,z, sep='\\n\\n')"
   ]
  },
  {
   "cell_type": "markdown",
   "id": "e70e3e16",
   "metadata": {},
   "source": [
    "# linspace"
   ]
  },
  {
   "cell_type": "code",
   "execution_count": 73,
   "id": "cb2eceb7",
   "metadata": {},
   "outputs": [
    {
     "data": {
      "text/plain": [
       "array([ 1.,  4.,  7., 10.])"
      ]
     },
     "execution_count": 73,
     "metadata": {},
     "output_type": "execute_result"
    }
   ],
   "source": [
    "np.linspace(1,10,4)"
   ]
  },
  {
   "cell_type": "code",
   "execution_count": 74,
   "id": "17f2275e",
   "metadata": {},
   "outputs": [
    {
     "data": {
      "text/plain": [
       "array([  0.        ,   2.04081633,   4.08163265,   6.12244898,\n",
       "         8.16326531,  10.20408163,  12.24489796,  14.28571429,\n",
       "        16.32653061,  18.36734694,  20.40816327,  22.44897959,\n",
       "        24.48979592,  26.53061224,  28.57142857,  30.6122449 ,\n",
       "        32.65306122,  34.69387755,  36.73469388,  38.7755102 ,\n",
       "        40.81632653,  42.85714286,  44.89795918,  46.93877551,\n",
       "        48.97959184,  51.02040816,  53.06122449,  55.10204082,\n",
       "        57.14285714,  59.18367347,  61.2244898 ,  63.26530612,\n",
       "        65.30612245,  67.34693878,  69.3877551 ,  71.42857143,\n",
       "        73.46938776,  75.51020408,  77.55102041,  79.59183673,\n",
       "        81.63265306,  83.67346939,  85.71428571,  87.75510204,\n",
       "        89.79591837,  91.83673469,  93.87755102,  95.91836735,\n",
       "        97.95918367, 100.        ])"
      ]
     },
     "execution_count": 74,
     "metadata": {},
     "output_type": "execute_result"
    }
   ],
   "source": [
    "np.linspace(0,100)"
   ]
  },
  {
   "cell_type": "code",
   "execution_count": 75,
   "id": "13f518cf",
   "metadata": {},
   "outputs": [
    {
     "data": {
      "text/plain": [
       "array([  1,  12,  23,  34,  45,  56,  67,  78,  89, 100], dtype=int16)"
      ]
     },
     "execution_count": 75,
     "metadata": {},
     "output_type": "execute_result"
    }
   ],
   "source": [
    "np.linspace(1,100,10, dtype='int16')\n"
   ]
  },
  {
   "cell_type": "code",
   "execution_count": 76,
   "id": "310ac7f7",
   "metadata": {},
   "outputs": [
    {
     "data": {
      "text/plain": [
       "array([  0,  11,  22,  33,  44,  55,  66,  77,  88, 100], dtype=int16)"
      ]
     },
     "execution_count": 76,
     "metadata": {},
     "output_type": "execute_result"
    }
   ],
   "source": [
    "np.linspace(0,100,10, dtype='int16')\n"
   ]
  },
  {
   "cell_type": "code",
   "execution_count": 77,
   "id": "ffd0764f",
   "metadata": {},
   "outputs": [
    {
     "data": {
      "text/plain": [
       "50"
      ]
     },
     "execution_count": 77,
     "metadata": {},
     "output_type": "execute_result"
    }
   ],
   "source": [
    "len(np.linspace(0,100))"
   ]
  },
  {
   "cell_type": "markdown",
   "id": "b8633313",
   "metadata": {},
   "source": [
    "# Random"
   ]
  },
  {
   "cell_type": "code",
   "execution_count": 79,
   "id": "095f8d32",
   "metadata": {},
   "outputs": [],
   "source": [
    "# help(np.random)"
   ]
  },
  {
   "cell_type": "code",
   "execution_count": 83,
   "id": "c30599de",
   "metadata": {},
   "outputs": [
    {
     "data": {
      "text/plain": [
       "36"
      ]
     },
     "execution_count": 83,
     "metadata": {},
     "output_type": "execute_result"
    }
   ],
   "source": [
    "np.random.seed(225)\n",
    "np.random.randint(1,100)"
   ]
  },
  {
   "cell_type": "code",
   "execution_count": 87,
   "id": "c32516ca",
   "metadata": {},
   "outputs": [
    {
     "data": {
      "text/plain": [
       "50"
      ]
     },
     "execution_count": 87,
     "metadata": {},
     "output_type": "execute_result"
    }
   ],
   "source": [
    "np.random.seed(420)\n",
    "np.random.randint(1,100)"
   ]
  },
  {
   "cell_type": "code",
   "execution_count": null,
   "id": "8b26cea3",
   "metadata": {},
   "outputs": [],
   "source": [
    "a = np.r\n"
   ]
  },
  {
   "cell_type": "code",
   "execution_count": 88,
   "id": "1c1880d0",
   "metadata": {},
   "outputs": [
    {
     "name": "stdout",
     "output_type": "stream",
     "text": [
      "0.5714025946899135\n"
     ]
    }
   ],
   "source": [
    "import random\n",
    "\n",
    "random.seed(10)\n",
    "print(random.random())"
   ]
  },
  {
   "cell_type": "code",
   "execution_count": 94,
   "id": "f51eaaeb",
   "metadata": {},
   "outputs": [
    {
     "name": "stdout",
     "output_type": "stream",
     "text": [
      "[13 92 10 28 61 55 56 14 27]\n",
      "\n",
      "[[71 90 41]\n",
      " [17 62 47]\n",
      " [32 72 78]]\n",
      "\n",
      "[[[94 51 90]\n",
      "  [ 3 23 47]\n",
      "  [47 80 53]]\n",
      "\n",
      " [[46 16 55]\n",
      "  [55 75 41]\n",
      "  [12 11 15]]\n",
      "\n",
      " [[90 69 48]\n",
      "  [14 61 41]\n",
      "  [ 2 69 86]]]\n"
     ]
    }
   ],
   "source": [
    "a=np.random.randint(1,100,9)\n",
    "b=np.random.randint(1,100,(3,3))\n",
    "c=np.random.randint(1,100,(3,3,3))\n",
    "print(a,b,c, sep='\\n\\n')"
   ]
  },
  {
   "cell_type": "code",
   "execution_count": null,
   "id": "e28a880c",
   "metadata": {},
   "outputs": [],
   "source": []
  },
  {
   "cell_type": "code",
   "execution_count": 98,
   "id": "99375d0b",
   "metadata": {},
   "outputs": [
    {
     "name": "stdout",
     "output_type": "stream",
     "text": [
      "[75 63 33  2 28 18  5 75 94 38 18 82 89 23 68 63  7 55 24 56  3 63  3 67\n",
      " 74 31 90 36 69  4 31 36 44 73 19 44] (36,)\n"
     ]
    }
   ],
   "source": [
    "# reshape\n",
    "\n",
    "a=np.random.randint(1,100,36)\n",
    "print(a, a.shape)"
   ]
  },
  {
   "cell_type": "code",
   "execution_count": 100,
   "id": "9bf5c49a",
   "metadata": {},
   "outputs": [
    {
     "data": {
      "text/plain": [
       "array([[75, 63, 33,  2, 28, 18,  5, 75, 94, 38, 18, 82, 89, 23, 68, 63,\n",
       "         7, 55, 24, 56,  3, 63,  3, 67, 74, 31, 90, 36, 69,  4, 31, 36,\n",
       "        44, 73, 19, 44]])"
      ]
     },
     "execution_count": 100,
     "metadata": {},
     "output_type": "execute_result"
    }
   ],
   "source": [
    "a.reshape(1,36) # one row and 36 columns"
   ]
  },
  {
   "cell_type": "code",
   "execution_count": 101,
   "id": "0365a96c",
   "metadata": {},
   "outputs": [
    {
     "data": {
      "text/plain": [
       "array([[75, 63, 33,  2, 28, 18],\n",
       "       [ 5, 75, 94, 38, 18, 82],\n",
       "       [89, 23, 68, 63,  7, 55],\n",
       "       [24, 56,  3, 63,  3, 67],\n",
       "       [74, 31, 90, 36, 69,  4],\n",
       "       [31, 36, 44, 73, 19, 44]])"
      ]
     },
     "execution_count": 101,
     "metadata": {},
     "output_type": "execute_result"
    }
   ],
   "source": [
    "a.reshape(6,6)"
   ]
  },
  {
   "cell_type": "code",
   "execution_count": 103,
   "id": "f41e5d14",
   "metadata": {},
   "outputs": [
    {
     "data": {
      "text/plain": [
       "array([[[75, 63, 33],\n",
       "        [ 2, 28, 18]],\n",
       "\n",
       "       [[ 5, 75, 94],\n",
       "        [38, 18, 82]],\n",
       "\n",
       "       [[89, 23, 68],\n",
       "        [63,  7, 55]],\n",
       "\n",
       "       [[24, 56,  3],\n",
       "        [63,  3, 67]],\n",
       "\n",
       "       [[74, 31, 90],\n",
       "        [36, 69,  4]],\n",
       "\n",
       "       [[31, 36, 44],\n",
       "        [73, 19, 44]]])"
      ]
     },
     "execution_count": 103,
     "metadata": {},
     "output_type": "execute_result"
    }
   ],
   "source": [
    "a.reshape(6,2,3)"
   ]
  },
  {
   "cell_type": "code",
   "execution_count": 104,
   "id": "6644721f",
   "metadata": {},
   "outputs": [
    {
     "data": {
      "text/plain": [
       "array([[[75, 63, 33,  2, 28, 18],\n",
       "        [ 5, 75, 94, 38, 18, 82]],\n",
       "\n",
       "       [[89, 23, 68, 63,  7, 55],\n",
       "        [24, 56,  3, 63,  3, 67]],\n",
       "\n",
       "       [[74, 31, 90, 36, 69,  4],\n",
       "        [31, 36, 44, 73, 19, 44]]])"
      ]
     },
     "execution_count": 104,
     "metadata": {},
     "output_type": "execute_result"
    }
   ],
   "source": [
    "a.reshape(3,2,6)"
   ]
  },
  {
   "cell_type": "code",
   "execution_count": 105,
   "id": "97db305f",
   "metadata": {},
   "outputs": [
    {
     "data": {
      "text/plain": [
       "array([[[[75, 63],\n",
       "         [33,  2],\n",
       "         [28, 18]],\n",
       "\n",
       "        [[ 5, 75],\n",
       "         [94, 38],\n",
       "         [18, 82]]],\n",
       "\n",
       "\n",
       "       [[[89, 23],\n",
       "         [68, 63],\n",
       "         [ 7, 55]],\n",
       "\n",
       "        [[24, 56],\n",
       "         [ 3, 63],\n",
       "         [ 3, 67]]],\n",
       "\n",
       "\n",
       "       [[[74, 31],\n",
       "         [90, 36],\n",
       "         [69,  4]],\n",
       "\n",
       "        [[31, 36],\n",
       "         [44, 73],\n",
       "         [19, 44]]]])"
      ]
     },
     "execution_count": 105,
     "metadata": {},
     "output_type": "execute_result"
    }
   ],
   "source": [
    "a.reshape(3,2,3,2)"
   ]
  },
  {
   "cell_type": "markdown",
   "id": "f0d47b9f",
   "metadata": {},
   "source": [
    "# flatten and ravel"
   ]
  },
  {
   "cell_type": "code",
   "execution_count": 15,
   "id": "ad0ad8e3",
   "metadata": {},
   "outputs": [
    {
     "data": {
      "text/plain": [
       "array([[ 3,  7,  5],\n",
       "       [10,  6,  2],\n",
       "       [ 3,  3,  9]])"
      ]
     },
     "execution_count": 15,
     "metadata": {},
     "output_type": "execute_result"
    }
   ],
   "source": [
    "a=np.random.randint(1,11,(3,3))\n",
    "a"
   ]
  },
  {
   "cell_type": "code",
   "execution_count": 16,
   "id": "f1464c94",
   "metadata": {},
   "outputs": [
    {
     "data": {
      "text/plain": [
       "array([[1, 2, 3],\n",
       "       [4, 5, 6],\n",
       "       [7, 8, 9]])"
      ]
     },
     "execution_count": 16,
     "metadata": {},
     "output_type": "execute_result"
    }
   ],
   "source": [
    "a=np.arange(1,10).reshape(3,3)\n",
    "a"
   ]
  },
  {
   "cell_type": "code",
   "execution_count": 17,
   "id": "e4c97077",
   "metadata": {},
   "outputs": [],
   "source": [
    "aRavel=a.ravel()\n",
    "aFlatten = a.flatten()"
   ]
  },
  {
   "cell_type": "code",
   "execution_count": 18,
   "id": "e1d60f58",
   "metadata": {},
   "outputs": [
    {
     "name": "stdout",
     "output_type": "stream",
     "text": [
      "[1 2 3 4 5 6 7 8 9]\n",
      "\n",
      "[1 2 3 4 5 6 7 8 9]\n"
     ]
    }
   ],
   "source": [
    "print(aRavel, aFlatten, sep = '\\n\\n')"
   ]
  },
  {
   "cell_type": "code",
   "execution_count": 19,
   "id": "326209fc",
   "metadata": {},
   "outputs": [
    {
     "data": {
      "text/plain": [
       "5"
      ]
     },
     "execution_count": 19,
     "metadata": {},
     "output_type": "execute_result"
    }
   ],
   "source": [
    "a[1,1]"
   ]
  },
  {
   "cell_type": "code",
   "execution_count": 20,
   "id": "f7778fe9",
   "metadata": {},
   "outputs": [],
   "source": [
    "a[1,1]=50"
   ]
  },
  {
   "cell_type": "code",
   "execution_count": 21,
   "id": "9bdf5cd5",
   "metadata": {},
   "outputs": [
    {
     "data": {
      "text/plain": [
       "array([[ 1,  2,  3],\n",
       "       [ 4, 50,  6],\n",
       "       [ 7,  8,  9]])"
      ]
     },
     "execution_count": 21,
     "metadata": {},
     "output_type": "execute_result"
    }
   ],
   "source": [
    "a"
   ]
  },
  {
   "cell_type": "code",
   "execution_count": 22,
   "id": "87a6c1df",
   "metadata": {},
   "outputs": [
    {
     "name": "stdout",
     "output_type": "stream",
     "text": [
      "[ 1  2  3  4 50  6  7  8  9]\n",
      "\n",
      "[1 2 3 4 5 6 7 8 9]\n"
     ]
    }
   ],
   "source": [
    "print(aRavel, aFlatten, sep = '\\n\\n')"
   ]
  },
  {
   "cell_type": "markdown",
   "id": "fc98ea01",
   "metadata": {},
   "source": [
    "# Ravel is a shallow copy and Flatten is a deep copy\n",
    "# Flatten always produces a one-dimensional copy, \n",
    "# whereas ravel attempts to provide a one-dimensional view of the original matrix.\n",
    "# Be cautious since altering the returned matrix from ravel may make changes to the original matrix. \n",
    "# Modifying the content of the array created by flatten has no effect on the original array.\n"
   ]
  },
  {
   "cell_type": "code",
   "execution_count": 23,
   "id": "632874ba",
   "metadata": {},
   "outputs": [
    {
     "name": "stdout",
     "output_type": "stream",
     "text": [
      "2427438538096 2427437854384 2427437854384\n"
     ]
    }
   ],
   "source": [
    "print(id(a[0]), id(aRavel[0]), id(aFlatten[0]))"
   ]
  },
  {
   "cell_type": "code",
   "execution_count": 24,
   "id": "900ac010",
   "metadata": {},
   "outputs": [
    {
     "name": "stdout",
     "output_type": "stream",
     "text": [
      "2427437852688 2427437852688 2427437852688\n"
     ]
    }
   ],
   "source": [
    "print(id(a[1,1]), id(aRavel[4]), id(aFlatten[4]))"
   ]
  },
  {
   "cell_type": "code",
   "execution_count": 25,
   "id": "67633e64",
   "metadata": {},
   "outputs": [
    {
     "data": {
      "text/plain": [
       "5"
      ]
     },
     "execution_count": 25,
     "metadata": {},
     "output_type": "execute_result"
    }
   ],
   "source": [
    "aFlatten[4]"
   ]
  },
  {
   "cell_type": "code",
   "execution_count": 26,
   "id": "8b80e08c",
   "metadata": {},
   "outputs": [
    {
     "data": {
      "text/plain": [
       "50"
      ]
     },
     "execution_count": 26,
     "metadata": {},
     "output_type": "execute_result"
    }
   ],
   "source": [
    "aRavel[4]"
   ]
  },
  {
   "cell_type": "markdown",
   "id": "26f7056a",
   "metadata": {},
   "source": [
    "# numpy is numerical python"
   ]
  },
  {
   "cell_type": "code",
   "execution_count": 27,
   "id": "af933564",
   "metadata": {},
   "outputs": [],
   "source": [
    "import numpy as np"
   ]
  },
  {
   "cell_type": "code",
   "execution_count": 28,
   "id": "aebf553a",
   "metadata": {},
   "outputs": [],
   "source": [
    "# ravel is a shallow copy and flatten is a deep copy"
   ]
  },
  {
   "cell_type": "code",
   "execution_count": 29,
   "id": "2c71c13b",
   "metadata": {},
   "outputs": [],
   "source": [
    "# aRavel[4]"
   ]
  },
  {
   "cell_type": "code",
   "execution_count": 30,
   "id": "292cacc1",
   "metadata": {},
   "outputs": [],
   "source": [
    "# aFlatten[4]"
   ]
  },
  {
   "cell_type": "code",
   "execution_count": 31,
   "id": "2f2b3acf",
   "metadata": {},
   "outputs": [],
   "source": [
    "# sort\n",
    "\n",
    "x =np.random.randint(1,50,(5,5))"
   ]
  },
  {
   "cell_type": "code",
   "execution_count": 32,
   "id": "f3f8573f",
   "metadata": {},
   "outputs": [
    {
     "data": {
      "text/plain": [
       "array([[15,  9, 16, 19,  1],\n",
       "       [24, 25,  2, 28,  7],\n",
       "       [36, 31,  8, 18, 28],\n",
       "       [29, 26, 31, 34,  8],\n",
       "       [22, 29, 48, 23, 38]])"
      ]
     },
     "execution_count": 32,
     "metadata": {},
     "output_type": "execute_result"
    }
   ],
   "source": [
    "x"
   ]
  },
  {
   "cell_type": "code",
   "execution_count": 33,
   "id": "cd3b891c",
   "metadata": {},
   "outputs": [
    {
     "data": {
      "text/plain": [
       "array([ 1,  2,  3,  4,  6,  7,  8,  9, 50])"
      ]
     },
     "execution_count": 33,
     "metadata": {},
     "output_type": "execute_result"
    }
   ],
   "source": [
    "np.sort(aRavel)"
   ]
  },
  {
   "cell_type": "code",
   "execution_count": 34,
   "id": "7fccdbbe",
   "metadata": {},
   "outputs": [
    {
     "data": {
      "text/plain": [
       "array([ 1,  2,  3,  4, 50,  6,  7,  8,  9])"
      ]
     },
     "execution_count": 34,
     "metadata": {},
     "output_type": "execute_result"
    }
   ],
   "source": [
    "aRavel"
   ]
  },
  {
   "cell_type": "code",
   "execution_count": 38,
   "id": "3b5120e1",
   "metadata": {},
   "outputs": [],
   "source": [
    "# help(np.sort)"
   ]
  },
  {
   "cell_type": "code",
   "execution_count": 39,
   "id": "6bb2938f",
   "metadata": {},
   "outputs": [
    {
     "data": {
      "text/plain": [
       "array([[ 1,  9, 15, 16, 19],\n",
       "       [ 2,  7, 24, 25, 28],\n",
       "       [ 8, 18, 28, 31, 36],\n",
       "       [ 8, 26, 29, 31, 34],\n",
       "       [22, 23, 29, 38, 48]])"
      ]
     },
     "execution_count": 39,
     "metadata": {},
     "output_type": "execute_result"
    }
   ],
   "source": [
    "np.sort(x)  # Row wise sorting"
   ]
  },
  {
   "cell_type": "code",
   "execution_count": 40,
   "id": "4310d682",
   "metadata": {},
   "outputs": [
    {
     "data": {
      "text/plain": [
       "array([[ 1,  9, 15, 16, 19],\n",
       "       [ 2,  7, 24, 25, 28],\n",
       "       [ 8, 18, 28, 31, 36],\n",
       "       [ 8, 26, 29, 31, 34],\n",
       "       [22, 23, 29, 38, 48]])"
      ]
     },
     "execution_count": 40,
     "metadata": {},
     "output_type": "execute_result"
    }
   ],
   "source": [
    "np.sort(x, axis=1) # columns wise sorting"
   ]
  },
  {
   "cell_type": "code",
   "execution_count": 41,
   "id": "ea64be12",
   "metadata": {},
   "outputs": [],
   "source": [
    "y = np.random.randint(0,100,(3,3,3))"
   ]
  },
  {
   "cell_type": "code",
   "execution_count": 42,
   "id": "5c3671b8",
   "metadata": {},
   "outputs": [
    {
     "data": {
      "text/plain": [
       "array([[[81, 23, 26],\n",
       "        [44, 78, 68],\n",
       "        [89, 73, 39]],\n",
       "\n",
       "       [[35, 29, 15],\n",
       "        [67, 85, 78],\n",
       "        [21, 91, 17]],\n",
       "\n",
       "       [[79, 48, 21],\n",
       "        [63, 15, 53],\n",
       "        [47, 68, 32]]])"
      ]
     },
     "execution_count": 42,
     "metadata": {},
     "output_type": "execute_result"
    }
   ],
   "source": [
    "y"
   ]
  },
  {
   "cell_type": "code",
   "execution_count": 43,
   "id": "ea89b737",
   "metadata": {},
   "outputs": [
    {
     "data": {
      "text/plain": [
       "array([[[23, 26, 81],\n",
       "        [44, 68, 78],\n",
       "        [39, 73, 89]],\n",
       "\n",
       "       [[15, 29, 35],\n",
       "        [67, 78, 85],\n",
       "        [17, 21, 91]],\n",
       "\n",
       "       [[21, 48, 79],\n",
       "        [15, 53, 63],\n",
       "        [32, 47, 68]]])"
      ]
     },
     "execution_count": 43,
     "metadata": {},
     "output_type": "execute_result"
    }
   ],
   "source": [
    "np.sort(y) # if no axis is provided, the sorting happens on row-wise"
   ]
  },
  {
   "cell_type": "code",
   "execution_count": 45,
   "id": "f7bddf46",
   "metadata": {},
   "outputs": [
    {
     "data": {
      "text/plain": [
       "array([[[44, 23, 26],\n",
       "        [81, 73, 39],\n",
       "        [89, 78, 68]],\n",
       "\n",
       "       [[21, 29, 15],\n",
       "        [35, 85, 17],\n",
       "        [67, 91, 78]],\n",
       "\n",
       "       [[47, 15, 21],\n",
       "        [63, 48, 32],\n",
       "        [79, 68, 53]]])"
      ]
     },
     "execution_count": 45,
     "metadata": {},
     "output_type": "execute_result"
    }
   ],
   "source": [
    "np.sort(y, axis=1) # 0=row wise, 1=column wise"
   ]
  },
  {
   "cell_type": "code",
   "execution_count": 46,
   "id": "e8b26fdd",
   "metadata": {},
   "outputs": [
    {
     "data": {
      "text/plain": [
       "array([[[23, 26, 81],\n",
       "        [44, 68, 78],\n",
       "        [39, 73, 89]],\n",
       "\n",
       "       [[15, 29, 35],\n",
       "        [67, 78, 85],\n",
       "        [17, 21, 91]],\n",
       "\n",
       "       [[21, 48, 79],\n",
       "        [15, 53, 63],\n",
       "        [32, 47, 68]]])"
      ]
     },
     "execution_count": 46,
     "metadata": {},
     "output_type": "execute_result"
    }
   ],
   "source": [
    "np.sort(y, axis=2) # 0=row wise, 1=column wise"
   ]
  },
  {
   "cell_type": "code",
   "execution_count": 49,
   "id": "4afaef99",
   "metadata": {},
   "outputs": [
    {
     "data": {
      "text/plain": [
       "array([[[81, 23, 26],\n",
       "        [44, 78, 68],\n",
       "        [89, 73, 39]],\n",
       "\n",
       "       [[35, 29, 15],\n",
       "        [67, 85, 78],\n",
       "        [21, 91, 17]],\n",
       "\n",
       "       [[79, 48, 21],\n",
       "        [63, 15, 53],\n",
       "        [47, 68, 32]]])"
      ]
     },
     "execution_count": 49,
     "metadata": {},
     "output_type": "execute_result"
    }
   ],
   "source": [
    "y"
   ]
  },
  {
   "cell_type": "code",
   "execution_count": 48,
   "id": "a6fc4df5",
   "metadata": {},
   "outputs": [
    {
     "data": {
      "text/plain": [
       "array([[[23, 26, 81],\n",
       "        [44, 68, 78],\n",
       "        [39, 73, 89]],\n",
       "\n",
       "       [[15, 29, 35],\n",
       "        [67, 78, 85],\n",
       "        [17, 21, 91]],\n",
       "\n",
       "       [[21, 48, 79],\n",
       "        [15, 53, 63],\n",
       "        [32, 47, 68]]])"
      ]
     },
     "execution_count": 48,
     "metadata": {},
     "output_type": "execute_result"
    }
   ],
   "source": [
    "np.sort(y, axis=-1)"
   ]
  },
  {
   "cell_type": "code",
   "execution_count": 50,
   "id": "53186a81",
   "metadata": {},
   "outputs": [
    {
     "data": {
      "text/plain": [
       "array([ 1,  2,  3,  4, 50,  6,  7,  8,  9])"
      ]
     },
     "execution_count": 50,
     "metadata": {},
     "output_type": "execute_result"
    }
   ],
   "source": [
    "aRavel"
   ]
  },
  {
   "cell_type": "code",
   "execution_count": 52,
   "id": "3e16b403",
   "metadata": {},
   "outputs": [
    {
     "data": {
      "text/plain": [
       "0"
      ]
     },
     "execution_count": 52,
     "metadata": {},
     "output_type": "execute_result"
    }
   ],
   "source": [
    "np.argmin(aRavel)"
   ]
  },
  {
   "cell_type": "code",
   "execution_count": 53,
   "id": "b4a0d9b5",
   "metadata": {},
   "outputs": [
    {
     "data": {
      "text/plain": [
       "(0, 4)"
      ]
     },
     "execution_count": 53,
     "metadata": {},
     "output_type": "execute_result"
    }
   ],
   "source": [
    "np.argmin(aRavel),np.argmax(aRavel)"
   ]
  },
  {
   "cell_type": "code",
   "execution_count": 54,
   "id": "d44d4fd9",
   "metadata": {},
   "outputs": [
    {
     "name": "stdout",
     "output_type": "stream",
     "text": [
      "[ 1  2  3  4 50  6  7  8  9]\n"
     ]
    }
   ],
   "source": [
    "print(aRavel)"
   ]
  },
  {
   "cell_type": "code",
   "execution_count": 56,
   "id": "1de968b3",
   "metadata": {},
   "outputs": [
    {
     "name": "stdout",
     "output_type": "stream",
     "text": [
      "[[15  9 16 19  1]\n",
      " [24 25  2 28  7]\n",
      " [36 31  8 18 28]\n",
      " [29 26 31 34  8]\n",
      " [22 29 48 23 38]]\n"
     ]
    },
    {
     "data": {
      "text/plain": [
       "(0, 4)"
      ]
     },
     "execution_count": 56,
     "metadata": {},
     "output_type": "execute_result"
    }
   ],
   "source": [
    "print(x)\n",
    "np.argmin(aRavel),np.argmax(aRavel)"
   ]
  },
  {
   "cell_type": "code",
   "execution_count": 68,
   "id": "e1225af0",
   "metadata": {
    "scrolled": true
   },
   "outputs": [
    {
     "name": "stdout",
     "output_type": "stream",
     "text": [
      "[[[81 23 26]\n",
      "  [44 78 68]\n",
      "  [89 73 39]]\n",
      "\n",
      " [[35 29 15]\n",
      "  [67 85 78]\n",
      "  [21 91 17]]\n",
      "\n",
      " [[79 48 21]\n",
      "  [63 15 53]\n",
      "  [47 68 32]]] \n",
      "\n",
      "11 16\n",
      "[[1 0 0]\n",
      " [2 0 0]\n",
      " [2 1 0]]****\n",
      "[[2 1 1]\n",
      " [1 2 1]\n",
      " [0 2 1]]\n",
      "[[1 0 1]\n",
      " [0 2 2]\n",
      " [1 2 1]]****\n",
      "[[0 2 0]\n",
      " [1 1 1]\n",
      " [0 1 0]]\n"
     ]
    }
   ],
   "source": [
    "print(y,'\\n')\n",
    "print(np.argmin(y),np.argmax(y)) # row wise\n",
    "print(np.argmin(y, axis=1), np.argmax(y, axis=1), sep='****\\n') \n",
    "print(np.argmin(y, axis=0), np.argmax(y, axis=0), sep='****\\n') "
   ]
  },
  {
   "cell_type": "code",
   "execution_count": 69,
   "id": "f54832c6",
   "metadata": {},
   "outputs": [
    {
     "data": {
      "text/plain": [
       "array([ 1,  2,  3,  4, 50,  6,  7,  8,  9])"
      ]
     },
     "execution_count": 69,
     "metadata": {},
     "output_type": "execute_result"
    }
   ],
   "source": [
    "#expand squueze\n",
    "\n",
    "aRavel"
   ]
  },
  {
   "cell_type": "code",
   "execution_count": 70,
   "id": "06ff3ff6",
   "metadata": {},
   "outputs": [
    {
     "data": {
      "text/plain": [
       "array([[ 1,  2,  3,  4, 50,  6,  7,  8,  9]])"
      ]
     },
     "execution_count": 70,
     "metadata": {},
     "output_type": "execute_result"
    }
   ],
   "source": [
    "np.expand_dims(aRavel, axis=0)"
   ]
  },
  {
   "cell_type": "code",
   "execution_count": 71,
   "id": "48eec1a1",
   "metadata": {},
   "outputs": [
    {
     "data": {
      "text/plain": [
       "array([[ 1],\n",
       "       [ 2],\n",
       "       [ 3],\n",
       "       [ 4],\n",
       "       [50],\n",
       "       [ 6],\n",
       "       [ 7],\n",
       "       [ 8],\n",
       "       [ 9]])"
      ]
     },
     "execution_count": 71,
     "metadata": {},
     "output_type": "execute_result"
    }
   ],
   "source": [
    "np.expand_dims(aRavel, axis=1)"
   ]
  },
  {
   "cell_type": "code",
   "execution_count": 72,
   "id": "dbbf4998",
   "metadata": {},
   "outputs": [
    {
     "data": {
      "text/plain": [
       "array([[ 1,  2,  3,  4, 50,  6,  7,  8,  9]])"
      ]
     },
     "execution_count": 72,
     "metadata": {},
     "output_type": "execute_result"
    }
   ],
   "source": [
    "np.expand_dims(aRavel, axis=0)"
   ]
  },
  {
   "cell_type": "code",
   "execution_count": 78,
   "id": "948e2c7a",
   "metadata": {},
   "outputs": [
    {
     "data": {
      "text/plain": [
       "array([[ 1],\n",
       "       [ 2],\n",
       "       [ 3],\n",
       "       [ 4],\n",
       "       [50],\n",
       "       [ 6],\n",
       "       [ 7],\n",
       "       [ 8],\n",
       "       [ 9]])"
      ]
     },
     "execution_count": 78,
     "metadata": {},
     "output_type": "execute_result"
    }
   ],
   "source": [
    "np.expand_dims(aRavel, axis=1)"
   ]
  },
  {
   "cell_type": "code",
   "execution_count": 86,
   "id": "9acce0d3",
   "metadata": {},
   "outputs": [
    {
     "data": {
      "text/plain": [
       "array([[[[81, 23, 26]],\n",
       "\n",
       "        [[44, 78, 68]],\n",
       "\n",
       "        [[89, 73, 39]]],\n",
       "\n",
       "\n",
       "       [[[35, 29, 15]],\n",
       "\n",
       "        [[67, 85, 78]],\n",
       "\n",
       "        [[21, 91, 17]]],\n",
       "\n",
       "\n",
       "       [[[79, 48, 21]],\n",
       "\n",
       "        [[63, 15, 53]],\n",
       "\n",
       "        [[47, 68, 32]]]])"
      ]
     },
     "execution_count": 86,
     "metadata": {},
     "output_type": "execute_result"
    }
   ],
   "source": [
    "np.expand_dims(y, axis=2)"
   ]
  },
  {
   "cell_type": "code",
   "execution_count": 81,
   "id": "3254df1d",
   "metadata": {},
   "outputs": [],
   "source": [
    "z=np.expand_dims(x, axis=1)"
   ]
  },
  {
   "cell_type": "code",
   "execution_count": 82,
   "id": "c9c54645",
   "metadata": {},
   "outputs": [
    {
     "data": {
      "text/plain": [
       "array([[[15,  9, 16, 19,  1]],\n",
       "\n",
       "       [[24, 25,  2, 28,  7]],\n",
       "\n",
       "       [[36, 31,  8, 18, 28]],\n",
       "\n",
       "       [[29, 26, 31, 34,  8]],\n",
       "\n",
       "       [[22, 29, 48, 23, 38]]])"
      ]
     },
     "execution_count": 82,
     "metadata": {},
     "output_type": "execute_result"
    }
   ],
   "source": [
    "z"
   ]
  },
  {
   "cell_type": "code",
   "execution_count": 84,
   "id": "20118937",
   "metadata": {},
   "outputs": [
    {
     "data": {
      "text/plain": [
       "array([[15,  9, 16, 19,  1],\n",
       "       [24, 25,  2, 28,  7],\n",
       "       [36, 31,  8, 18, 28],\n",
       "       [29, 26, 31, 34,  8],\n",
       "       [22, 29, 48, 23, 38]])"
      ]
     },
     "execution_count": 84,
     "metadata": {},
     "output_type": "execute_result"
    }
   ],
   "source": [
    "np.squeeze(z, axis=1)"
   ]
  },
  {
   "cell_type": "code",
   "execution_count": 89,
   "id": "5d31c1cc",
   "metadata": {},
   "outputs": [
    {
     "data": {
      "text/plain": [
       "array([[1],\n",
       "       [2]])"
      ]
     },
     "execution_count": 89,
     "metadata": {},
     "output_type": "execute_result"
    }
   ],
   "source": [
    "d=np.array([[1],[2]])\n",
    "d"
   ]
  },
  {
   "cell_type": "code",
   "execution_count": 90,
   "id": "3df54f4b",
   "metadata": {},
   "outputs": [
    {
     "data": {
      "text/plain": [
       "array([1, 2])"
      ]
     },
     "execution_count": 90,
     "metadata": {},
     "output_type": "execute_result"
    }
   ],
   "source": [
    "np.squeeze(d,axis=1)"
   ]
  },
  {
   "cell_type": "code",
   "execution_count": null,
   "id": "4a98bff0",
   "metadata": {},
   "outputs": [],
   "source": []
  },
  {
   "cell_type": "code",
   "execution_count": null,
   "id": "4c86bf93",
   "metadata": {},
   "outputs": [],
   "source": []
  },
  {
   "cell_type": "code",
   "execution_count": null,
   "id": "8440f6bc",
   "metadata": {},
   "outputs": [],
   "source": []
  },
  {
   "cell_type": "code",
   "execution_count": null,
   "id": "22e93887",
   "metadata": {},
   "outputs": [],
   "source": []
  },
  {
   "cell_type": "code",
   "execution_count": null,
   "id": "19c1930b",
   "metadata": {},
   "outputs": [],
   "source": []
  },
  {
   "cell_type": "code",
   "execution_count": null,
   "id": "e2747918",
   "metadata": {},
   "outputs": [],
   "source": []
  },
  {
   "cell_type": "code",
   "execution_count": null,
   "id": "af12f030",
   "metadata": {},
   "outputs": [],
   "source": []
  },
  {
   "cell_type": "code",
   "execution_count": null,
   "id": "2a884f8d",
   "metadata": {},
   "outputs": [],
   "source": []
  },
  {
   "cell_type": "code",
   "execution_count": null,
   "id": "58d55943",
   "metadata": {},
   "outputs": [],
   "source": []
  },
  {
   "cell_type": "code",
   "execution_count": null,
   "id": "e4beae2b",
   "metadata": {},
   "outputs": [],
   "source": []
  },
  {
   "cell_type": "code",
   "execution_count": null,
   "id": "9e09a71d",
   "metadata": {},
   "outputs": [],
   "source": []
  },
  {
   "cell_type": "code",
   "execution_count": null,
   "id": "2efb3ecf",
   "metadata": {},
   "outputs": [],
   "source": []
  },
  {
   "cell_type": "code",
   "execution_count": null,
   "id": "296d0d19",
   "metadata": {},
   "outputs": [],
   "source": []
  },
  {
   "cell_type": "code",
   "execution_count": null,
   "id": "02bccdaa",
   "metadata": {},
   "outputs": [],
   "source": []
  },
  {
   "cell_type": "code",
   "execution_count": null,
   "id": "2ce4c477",
   "metadata": {},
   "outputs": [],
   "source": []
  },
  {
   "cell_type": "code",
   "execution_count": null,
   "id": "44d34392",
   "metadata": {},
   "outputs": [],
   "source": []
  },
  {
   "cell_type": "code",
   "execution_count": null,
   "id": "4a0362dc",
   "metadata": {},
   "outputs": [],
   "source": []
  },
  {
   "cell_type": "code",
   "execution_count": null,
   "id": "02fdeb20",
   "metadata": {},
   "outputs": [],
   "source": []
  },
  {
   "cell_type": "code",
   "execution_count": null,
   "id": "d05d8d56",
   "metadata": {},
   "outputs": [],
   "source": []
  },
  {
   "cell_type": "code",
   "execution_count": null,
   "id": "c5763234",
   "metadata": {},
   "outputs": [],
   "source": []
  },
  {
   "cell_type": "code",
   "execution_count": null,
   "id": "63f37f06",
   "metadata": {},
   "outputs": [],
   "source": []
  },
  {
   "cell_type": "code",
   "execution_count": null,
   "id": "91d16a6e",
   "metadata": {},
   "outputs": [],
   "source": []
  },
  {
   "cell_type": "code",
   "execution_count": null,
   "id": "76ae1f34",
   "metadata": {},
   "outputs": [],
   "source": []
  },
  {
   "cell_type": "code",
   "execution_count": null,
   "id": "6333d26c",
   "metadata": {},
   "outputs": [],
   "source": []
  },
  {
   "cell_type": "code",
   "execution_count": null,
   "id": "d27681b3",
   "metadata": {},
   "outputs": [],
   "source": []
  },
  {
   "cell_type": "code",
   "execution_count": null,
   "id": "f6f17c6d",
   "metadata": {},
   "outputs": [],
   "source": []
  },
  {
   "cell_type": "code",
   "execution_count": null,
   "id": "ebd93a60",
   "metadata": {},
   "outputs": [],
   "source": []
  },
  {
   "cell_type": "code",
   "execution_count": null,
   "id": "e95cfc43",
   "metadata": {},
   "outputs": [],
   "source": []
  },
  {
   "cell_type": "code",
   "execution_count": null,
   "id": "10ee78dd",
   "metadata": {},
   "outputs": [],
   "source": []
  },
  {
   "cell_type": "code",
   "execution_count": null,
   "id": "24ea9c69",
   "metadata": {},
   "outputs": [],
   "source": []
  },
  {
   "cell_type": "code",
   "execution_count": null,
   "id": "02cacb23",
   "metadata": {},
   "outputs": [],
   "source": []
  }
 ],
 "metadata": {
  "kernelspec": {
   "display_name": "Python 3 (ipykernel)",
   "language": "python",
   "name": "python3"
  },
  "language_info": {
   "codemirror_mode": {
    "name": "ipython",
    "version": 3
   },
   "file_extension": ".py",
   "mimetype": "text/x-python",
   "name": "python",
   "nbconvert_exporter": "python",
   "pygments_lexer": "ipython3",
   "version": "3.10.9"
  }
 },
 "nbformat": 4,
 "nbformat_minor": 5
}
